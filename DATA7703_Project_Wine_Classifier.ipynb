{
  "nbformat": 4,
  "nbformat_minor": 0,
  "metadata": {
    "colab": {
      "provenance": [],
      "toc_visible": true,
      "authorship_tag": "ABX9TyOprAAVW86W14UHx08YUUxQ",
      "include_colab_link": true
    },
    "kernelspec": {
      "name": "python3",
      "display_name": "Python 3"
    },
    "language_info": {
      "name": "python"
    }
  },
  "cells": [
    {
      "cell_type": "markdown",
      "metadata": {
        "id": "view-in-github",
        "colab_type": "text"
      },
      "source": [
        "<a href=\"https://colab.research.google.com/github/tripsysi/Wine_Classifier/blob/main/DATA7703_Project_Wine_Classifier.ipynb\" target=\"_parent\"><img src=\"https://colab.research.google.com/assets/colab-badge.svg\" alt=\"Open In Colab\"/></a>"
      ]
    },
    {
      "cell_type": "markdown",
      "source": [
        "# DATA7703 Project  - Wine Classifier"
      ],
      "metadata": {
        "id": "1wscYXoIp9QY"
      }
    },
    {
      "cell_type": "code",
      "source": [
        "####################\n",
        "import numpy as np\n",
        "import pandas as pd\n",
        "from sklearn.preprocessing import StandardScaler\n",
        "from sklearn.model_selection import GridSearchCV, train_test_split"
      ],
      "metadata": {
        "id": "46gBF_Mh1Fhf"
      },
      "execution_count": 58,
      "outputs": []
    },
    {
      "cell_type": "markdown",
      "source": [
        "## Read in data"
      ],
      "metadata": {
        "id": "fLCjilPd1N4z"
      }
    },
    {
      "cell_type": "code",
      "source": [
        "redwine = pd.read_csv(\"https://raw.githubusercontent.com/tripsysi/Wine_Classifier/main/data/winequality-red.csv\")\n",
        "whitewine = pd.read_csv(\"https://raw.githubusercontent.com/tripsysi/Wine_Classifier/main/data/winequality-white.csv\")"
      ],
      "metadata": {
        "id": "qAXXconp1RV4"
      },
      "execution_count": 52,
      "outputs": []
    },
    {
      "cell_type": "markdown",
      "source": [
        "Citation : Data from https://archive.ics.uci.edu/ml/datasets/wine+quality"
      ],
      "metadata": {
        "id": "m-6FfRCT3UqS"
      }
    },
    {
      "cell_type": "code",
      "source": [
        "redwine.columns"
      ],
      "metadata": {
        "colab": {
          "base_uri": "https://localhost:8080/"
        },
        "id": "oOUhCoOq48Z5",
        "outputId": "5c903350-3861-417c-ec3c-6d2e835d9784"
      },
      "execution_count": 53,
      "outputs": [
        {
          "output_type": "execute_result",
          "data": {
            "text/plain": [
              "Index(['fixed acidity', 'volatile acidity', 'citric acid', 'residual sugar',\n",
              "       'chlorides', 'free sulfur dioxide', 'total sulfur dioxide', 'density',\n",
              "       'pH', 'sulphates', 'alcohol', 'quality'],\n",
              "      dtype='object')"
            ]
          },
          "metadata": {},
          "execution_count": 53
        }
      ]
    },
    {
      "cell_type": "code",
      "source": [
        "print(redwine.shape)\n",
        "print(whitewine.shape)"
      ],
      "metadata": {
        "colab": {
          "base_uri": "https://localhost:8080/"
        },
        "id": "tiElX-PgAOoR",
        "outputId": "0cc4c137-96e8-4ba8-ade3-71d03e55799a"
      },
      "execution_count": 54,
      "outputs": [
        {
          "output_type": "stream",
          "name": "stdout",
          "text": [
            "(1599, 12)\n",
            "(4898, 12)\n"
          ]
        }
      ]
    },
    {
      "cell_type": "markdown",
      "source": [
        "## Preprocessing"
      ],
      "metadata": {
        "id": "qMeND_-bJ7xj"
      }
    },
    {
      "cell_type": "markdown",
      "source": [
        "### Merging Wine tables "
      ],
      "metadata": {
        "id": "FHdQ0CneKO6l"
      }
    },
    {
      "cell_type": "code",
      "source": [
        "redwine.insert(11, 'Winetype', 0)\n",
        "whitewine.insert(11, 'Winetype', 1)"
      ],
      "metadata": {
        "id": "UZXLzSWWKTtv"
      },
      "execution_count": 55,
      "outputs": []
    },
    {
      "cell_type": "code",
      "source": [
        "print(redwine.shape)\n",
        "print(whitewine.shape)"
      ],
      "metadata": {
        "colab": {
          "base_uri": "https://localhost:8080/"
        },
        "id": "xwM74cTh4MGx",
        "outputId": "efda4714-b26b-4e63-c3e5-c975cc7fe8ce"
      },
      "execution_count": 56,
      "outputs": [
        {
          "output_type": "stream",
          "name": "stdout",
          "text": [
            "(1599, 13)\n",
            "(4898, 13)\n"
          ]
        }
      ]
    },
    {
      "cell_type": "code",
      "source": [
        "wines = pd.concat([redwine,whitewine])\n",
        "wines.shape"
      ],
      "metadata": {
        "colab": {
          "base_uri": "https://localhost:8080/"
        },
        "id": "LBUsUSo29vgA",
        "outputId": "168bc505-66d9-4640-e147-adc72aea1ed6"
      },
      "execution_count": 57,
      "outputs": [
        {
          "output_type": "execute_result",
          "data": {
            "text/plain": [
              "(6497, 13)"
            ]
          },
          "metadata": {},
          "execution_count": 57
        }
      ]
    },
    {
      "cell_type": "markdown",
      "source": [
        "### Normalizing data"
      ],
      "metadata": {
        "id": "5PoQ8-HrBJl5"
      }
    },
    {
      "cell_type": "code",
      "source": [
        "X = wines.iloc[: , :-1]\n",
        "y = wines.iloc[:,-1:]"
      ],
      "metadata": {
        "id": "o0g9F2EFBL7B"
      },
      "execution_count": 59,
      "outputs": []
    },
    {
      "cell_type": "code",
      "source": [
        "scaler = StandardScaler()\n",
        "X = scaler.fit_transform(X)"
      ],
      "metadata": {
        "id": "XbOp4DgjCB_a"
      },
      "execution_count": 63,
      "outputs": []
    },
    {
      "cell_type": "markdown",
      "source": [
        "### Splitting into Train Test sets"
      ],
      "metadata": {
        "id": "t-FDnKG8KYb2"
      }
    },
    {
      "cell_type": "markdown",
      "source": [
        "## Modelling"
      ],
      "metadata": {
        "id": "_WO-l4kQpgon"
      }
    },
    {
      "cell_type": "markdown",
      "source": [
        "### Knn"
      ],
      "metadata": {
        "id": "O-6eUzVVqiIN"
      }
    },
    {
      "cell_type": "markdown",
      "source": [
        "### Naive Bayes"
      ],
      "metadata": {
        "id": "zr9Qv7c6qmyi"
      }
    },
    {
      "cell_type": "markdown",
      "source": [
        "### Random Forest"
      ],
      "metadata": {
        "id": "CPYNRMOrqqr7"
      }
    },
    {
      "cell_type": "code",
      "source": [],
      "metadata": {
        "id": "CRWqvGcFqRK0"
      },
      "execution_count": null,
      "outputs": []
    }
  ]
}