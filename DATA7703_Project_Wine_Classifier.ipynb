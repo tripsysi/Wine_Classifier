{
  "nbformat": 4,
  "nbformat_minor": 0,
  "metadata": {
    "colab": {
      "provenance": [],
      "collapsed_sections": [],
      "toc_visible": true,
      "include_colab_link": true
    },
    "kernelspec": {
      "name": "python3",
      "display_name": "Python 3"
    },
    "language_info": {
      "name": "python"
    }
  },
  "cells": [
    {
      "cell_type": "markdown",
      "metadata": {
        "id": "view-in-github",
        "colab_type": "text"
      },
      "source": [
        "<a href=\"https://colab.research.google.com/github/tripsysi/Wine_Classifier/blob/main/DATA7703_Project_Wine_Classifier.ipynb\" target=\"_parent\"><img src=\"https://colab.research.google.com/assets/colab-badge.svg\" alt=\"Open In Colab\"/></a>"
      ]
    },
    {
      "cell_type": "markdown",
      "source": [
        "# DATA7703 Project  - Wine Classifier"
      ],
      "metadata": {
        "id": "1wscYXoIp9QY"
      }
    },
    {
      "cell_type": "code",
      "source": [
        "####################\n",
        "import numpy as np\n",
        "from numpy import where\n",
        "import pandas as pd\n",
        "import seaborn as sns\n",
        "import matplotlib.pyplot as plt\n",
        "from sklearn.preprocessing import MinMaxScaler\n",
        "from sklearn.model_selection import GridSearchCV, train_test_split, cross_val_score, cross_validate\n",
        "from sklearn.metrics import make_scorer, f1_score, accuracy_score, mean_squared_error, roc_curve\n",
        "from sklearn import model_selection\n",
        "from sklearn.metrics import confusion_matrix, classification_report\n",
        "from sklearn.neighbors import KNeighborsClassifier\n",
        "from sklearn.decomposition import PCA\n",
        "from sklearn.model_selection import StratifiedKFold\n",
        "\n",
        "from collections import Counter"
      ],
      "metadata": {
        "id": "46gBF_Mh1Fhf"
      },
      "execution_count": 1,
      "outputs": []
    },
    {
      "cell_type": "markdown",
      "source": [
        "## Read in data"
      ],
      "metadata": {
        "id": "fLCjilPd1N4z"
      }
    },
    {
      "cell_type": "code",
      "source": [
        "redwine = pd.read_csv(\"https://raw.githubusercontent.com/tripsysi/Wine_Classifier/main/data/winequality-red.csv\")\n",
        "whitewine = pd.read_csv(\"https://raw.githubusercontent.com/tripsysi/Wine_Classifier/main/data/winequality-white.csv\")"
      ],
      "metadata": {
        "id": "qAXXconp1RV4"
      },
      "execution_count": 2,
      "outputs": []
    },
    {
      "cell_type": "markdown",
      "source": [
        "Citation : Data from https://archive.ics.uci.edu/ml/datasets/wine+quality"
      ],
      "metadata": {
        "id": "m-6FfRCT3UqS"
      }
    },
    {
      "cell_type": "code",
      "source": [
        "redwine.columns"
      ],
      "metadata": {
        "colab": {
          "base_uri": "https://localhost:8080/"
        },
        "id": "oOUhCoOq48Z5",
        "outputId": "1a98d2db-200d-477c-ce39-f8dea719f157"
      },
      "execution_count": 3,
      "outputs": [
        {
          "output_type": "execute_result",
          "data": {
            "text/plain": [
              "Index(['fixed acidity', 'volatile acidity', 'citric acid', 'residual sugar',\n",
              "       'chlorides', 'free sulfur dioxide', 'total sulfur dioxide', 'density',\n",
              "       'pH', 'sulphates', 'alcohol', 'quality'],\n",
              "      dtype='object')"
            ]
          },
          "metadata": {},
          "execution_count": 3
        }
      ]
    },
    {
      "cell_type": "code",
      "source": [
        "print(redwine.shape)\n",
        "print(whitewine.shape)"
      ],
      "metadata": {
        "colab": {
          "base_uri": "https://localhost:8080/"
        },
        "id": "tiElX-PgAOoR",
        "outputId": "e392db7d-33e5-4421-8eb4-e152b007d611"
      },
      "execution_count": 4,
      "outputs": [
        {
          "output_type": "stream",
          "name": "stdout",
          "text": [
            "(1599, 12)\n",
            "(4898, 12)\n"
          ]
        }
      ]
    },
    {
      "cell_type": "markdown",
      "source": [
        "## Preprocessing"
      ],
      "metadata": {
        "id": "qMeND_-bJ7xj"
      }
    },
    {
      "cell_type": "markdown",
      "source": [
        "### Preliminary EDA"
      ],
      "metadata": {
        "id": "ME0g9pKuEORI"
      }
    },
    {
      "cell_type": "markdown",
      "source": [
        "#### Class Distributions in percentages"
      ],
      "metadata": {
        "id": "EvAEk37PX5tt"
      }
    },
    {
      "cell_type": "code",
      "source": [
        "redwine['quality'].value_counts(normalize=True)"
      ],
      "metadata": {
        "colab": {
          "base_uri": "https://localhost:8080/"
        },
        "id": "QtRFg3LwX9M-",
        "outputId": "de4881b8-9663-433e-8237-258d21e10a25"
      },
      "execution_count": 5,
      "outputs": [
        {
          "output_type": "execute_result",
          "data": {
            "text/plain": [
              "5    0.425891\n",
              "6    0.398999\n",
              "7    0.124453\n",
              "4    0.033146\n",
              "8    0.011257\n",
              "3    0.006254\n",
              "Name: quality, dtype: float64"
            ]
          },
          "metadata": {},
          "execution_count": 5
        }
      ]
    },
    {
      "cell_type": "code",
      "source": [
        "whitewine['quality'].value_counts(normalize=True)"
      ],
      "metadata": {
        "colab": {
          "base_uri": "https://localhost:8080/"
        },
        "id": "Z47MjLWVYrQW",
        "outputId": "ef954989-2843-4d6b-d1c1-de2167258e42"
      },
      "execution_count": 6,
      "outputs": [
        {
          "output_type": "execute_result",
          "data": {
            "text/plain": [
              "6    0.448755\n",
              "5    0.297468\n",
              "7    0.179665\n",
              "8    0.035729\n",
              "4    0.033279\n",
              "3    0.004083\n",
              "9    0.001021\n",
              "Name: quality, dtype: float64"
            ]
          },
          "metadata": {},
          "execution_count": 6
        }
      ]
    },
    {
      "cell_type": "markdown",
      "source": [
        "#### Visualisation of the class distributions using PCA"
      ],
      "metadata": {
        "id": "v6eaNy3iY2RY"
      }
    },
    {
      "cell_type": "markdown",
      "source": [
        "Quality 7, 8, 9 are considered good <br>\n",
        "5, 6 are average <br>\n",
        "rest poor quality"
      ],
      "metadata": {
        "id": "qLPSWqFNtXXa"
      }
    },
    {
      "cell_type": "code",
      "source": [
        "counter = Counter(redwine['quality'])\n",
        "pca = PCA(n_components=2)\n",
        "red_rwine = pca.fit_transform(redwine)\n",
        "for label, _ in counter.items():\n",
        "    row_ix = where(redwine['quality'] == label)[0]\n",
        "    plt.scatter(red_rwine[row_ix, 0], red_rwine[row_ix, 1], label=str(label))\n",
        "plt.legend()\n",
        "plt.title(\"PCA Visualisation of Red Wines\")\n",
        "plt.show()"
      ],
      "metadata": {
        "colab": {
          "base_uri": "https://localhost:8080/",
          "height": 281
        },
        "id": "cHCnlrnBY7Pl",
        "outputId": "267d6325-523b-40ec-dd95-120553849780"
      },
      "execution_count": 7,
      "outputs": [
        {
          "output_type": "display_data",
          "data": {
            "text/plain": [
              "<Figure size 432x288 with 1 Axes>"
            ],
            "image/png": "[encoded data removed]"
          },
          "metadata": {
            "needs_background": "light"
          }
        }
      ]
    },
    {
      "cell_type": "code",
      "source": [
        "counter = Counter(whitewine['quality'])\n",
        "pca = PCA(n_components=2)\n",
        "red_wwine = pca.fit_transform(whitewine)\n",
        "for label, _ in counter.items():\n",
        "    row_ix = where(whitewine['quality'] == label)[0]\n",
        "    plt.scatter(red_wwine[row_ix, 0], red_wwine[row_ix, 1], label=str(label))\n",
        "plt.legend()\n",
        "plt.title(\"PCA Visualisation of White Wines\")\n",
        "plt.show()"
      ],
      "metadata": {
        "colab": {
          "base_uri": "https://localhost:8080/",
          "height": 281
        },
        "id": "HSDGtk4iajKq",
        "outputId": "b42f26fc-9cff-48c5-b5af-e7d209b42e2d"
      },
      "execution_count": 8,
      "outputs": [
        {
          "output_type": "display_data",
          "data": {
            "text/plain": [
              "<Figure size 432x288 with 1 Axes>"
            ],
            "image/png": "[encoded data removed]"
          },
          "metadata": {
            "needs_background": "light"
          }
        }
      ]
    },
    {
      "cell_type": "markdown",
      "source": [
        "#### Correlations"
      ],
      "metadata": {
        "id": "vGyXoaYuXtuD"
      }
    },
    {
      "cell_type": "markdown",
      "source": [
        "### Merging Wine tables "
      ],
      "metadata": {
        "id": "FHdQ0CneKO6l"
      }
    },
    {
      "cell_type": "code",
      "source": [
        "redwine.insert(11, 'Winetype', 0)\n",
        "whitewine.insert(11, 'Winetype', 1)"
      ],
      "metadata": {
        "id": "UZXLzSWWKTtv"
      },
      "execution_count": 9,
      "outputs": []
    },
    {
      "cell_type": "code",
      "source": [
        "print(redwine.shape)\n",
        "print(whitewine.shape)"
      ],
      "metadata": {
        "colab": {
          "base_uri": "https://localhost:8080/"
        },
        "id": "xwM74cTh4MGx",
        "outputId": "9095402c-fc9a-4a99-d08f-b5bad9d182b1"
      },
      "execution_count": 10,
      "outputs": [
        {
          "output_type": "stream",
          "name": "stdout",
          "text": [
            "(1599, 13)\n",
            "(4898, 13)\n"
          ]
        }
      ]
    },
    {
      "cell_type": "code",
      "source": [
        "wines = pd.concat([redwine,whitewine])\n",
        "wines.shape"
      ],
      "metadata": {
        "colab": {
          "base_uri": "https://localhost:8080/"
        },
        "id": "LBUsUSo29vgA",
        "outputId": "132aa60d-a685-490c-83ad-b01be97a9724"
      },
      "execution_count": 11,
      "outputs": [
        {
          "output_type": "execute_result",
          "data": {
            "text/plain": [
              "(6497, 13)"
            ]
          },
          "metadata": {},
          "execution_count": 11
        }
      ]
    },
    {
      "cell_type": "code",
      "source": [
        "wines.isnull().sum()"
      ],
      "metadata": {
        "colab": {
          "base_uri": "https://localhost:8080/"
        },
        "id": "eiHqrFZ621g8",
        "outputId": "2ebdd63e-427e-46a2-865e-23dc6b3e04a7"
      },
      "execution_count": 12,
      "outputs": [
        {
          "output_type": "execute_result",
          "data": {
            "text/plain": [
              "fixed acidity           0\n",
              "volatile acidity        0\n",
              "citric acid             0\n",
              "residual sugar          0\n",
              "chlorides               0\n",
              "free sulfur dioxide     0\n",
              "total sulfur dioxide    0\n",
              "density                 0\n",
              "pH                      0\n",
              "sulphates               0\n",
              "alcohol                 0\n",
              "Winetype                0\n",
              "quality                 0\n",
              "dtype: int64"
            ]
          },
          "metadata": {},
          "execution_count": 12
        }
      ]
    },
    {
      "cell_type": "code",
      "source": [],
      "metadata": {
        "id": "RVpWsjvYRtdc"
      },
      "execution_count": 12,
      "outputs": []
    },
    {
      "cell_type": "code",
      "source": [
        "sns.heatmap(wines.corr(), annot=True, cbar=False);"
      ],
      "metadata": {
        "colab": {
          "base_uri": "https://localhost:8080/",
          "height": 349
        },
        "id": "MWsFgnzd24L8",
        "outputId": "4f73c4db-1ac3-4f9b-b2e9-0fd7788e6cfa"
      },
      "execution_count": 13,
      "outputs": [
        {
          "output_type": "display_data",
          "data": {
            "text/plain": [
              "<Figure size 432x288 with 1 Axes>"
            ],
            "image/png": "[encoded data removed]"
          },
          "metadata": {
            "needs_background": "light"
          }
        }
      ]
    },
    {
      "cell_type": "markdown",
      "source": [
        "### Wine quality buckets"
      ],
      "metadata": {
        "id": "78G1C_26-TeM"
      }
    },
    {
      "cell_type": "code",
      "source": [
        "wines['quality_label'] = wines.quality.apply(lambda x: 0 if x <= 5 \\\n",
        "                                             else 1 \\\n",
        "                                             if x <= 7 else 2)"
      ],
      "metadata": {
        "id": "qu7nn4Lt3iYC"
      },
      "execution_count": 14,
      "outputs": []
    },
    {
      "cell_type": "code",
      "source": [
        "wines['quality_label'].value_counts()"
      ],
      "metadata": {
        "id": "lGRSpHVA3oad",
        "outputId": "acfb757f-3f7a-4ea9-cb40-682fa14620a2",
        "colab": {
          "base_uri": "https://localhost:8080/"
        }
      },
      "execution_count": 15,
      "outputs": [
        {
          "output_type": "execute_result",
          "data": {
            "text/plain": [
              "1    3915\n",
              "0    2384\n",
              "2     198\n",
              "Name: quality_label, dtype: int64"
            ]
          },
          "metadata": {},
          "execution_count": 15
        }
      ]
    },
    {
      "cell_type": "code",
      "source": [
        "wines['quality'].value_counts()"
      ],
      "metadata": {
        "id": "64BN3TH33tBO",
        "outputId": "54e56b92-d29b-47b4-878b-a477864cb447",
        "colab": {
          "base_uri": "https://localhost:8080/"
        }
      },
      "execution_count": 16,
      "outputs": [
        {
          "output_type": "execute_result",
          "data": {
            "text/plain": [
              "6    2836\n",
              "5    2138\n",
              "7    1079\n",
              "4     216\n",
              "8     193\n",
              "3      30\n",
              "9       5\n",
              "Name: quality, dtype: int64"
            ]
          },
          "metadata": {},
          "execution_count": 16
        }
      ]
    },
    {
      "cell_type": "markdown",
      "source": [
        "#### Visualisation of per class PCA"
      ],
      "metadata": {
        "id": "HsKmGMak08MK"
      }
    },
    {
      "cell_type": "code",
      "source": [
        "wines.shape"
      ],
      "metadata": {
        "id": "lF6P9nHidLMY",
        "outputId": "89ceb5b0-4a38-4c87-e879-54bb9b11f979",
        "colab": {
          "base_uri": "https://localhost:8080/"
        }
      },
      "execution_count": 105,
      "outputs": [
        {
          "output_type": "execute_result",
          "data": {
            "text/plain": [
              "(6497, 14)"
            ]
          },
          "metadata": {},
          "execution_count": 105
        }
      ]
    },
    {
      "cell_type": "code",
      "source": [],
      "metadata": {
        "id": "9r3q0OCUdOQ6",
        "outputId": "c8c76e93-5634-4f99-a9af-56445f4055d9",
        "colab": {
          "base_uri": "https://localhost:8080/",
          "height": 318
        }
      },
      "execution_count": 106,
      "outputs": [
        {
          "output_type": "error",
          "ename": "KeyError",
          "evalue": "ignored",
          "traceback": [
            "\u001b[0;31m---------------------------------------------------------------------------\u001b[0m",
            "\u001b[0;31mKeyError\u001b[0m                                  Traceback (most recent call last)",
            "\u001b[0;32m<ipython-input-106-ad26a4e1ff62>\u001b[0m in \u001b[0;36m<module>\u001b[0;34m\u001b[0m\n\u001b[0;32m----> 1\u001b[0;31m \u001b[0mwines\u001b[0m\u001b[0;34m.\u001b[0m\u001b[0mdrop\u001b[0m\u001b[0;34m(\u001b[0m\u001b[0;34m'quality'\u001b[0m\u001b[0;34m)\u001b[0m\u001b[0;34m\u001b[0m\u001b[0;34m\u001b[0m\u001b[0m\n\u001b[0m",
            "\u001b[0;32m/usr/local/lib/python3.7/dist-packages/pandas/util/_decorators.py\u001b[0m in \u001b[0;36mwrapper\u001b[0;34m(*args, **kwargs)\u001b[0m\n\u001b[1;32m    309\u001b[0m                     \u001b[0mstacklevel\u001b[0m\u001b[0;34m=\u001b[0m\u001b[0mstacklevel\u001b[0m\u001b[0;34m,\u001b[0m\u001b[0;34m\u001b[0m\u001b[0;34m\u001b[0m\u001b[0m\n\u001b[1;32m    310\u001b[0m                 )\n\u001b[0;32m--> 311\u001b[0;31m             \u001b[0;32mreturn\u001b[0m \u001b[0mfunc\u001b[0m\u001b[0;34m(\u001b[0m\u001b[0;34m*\u001b[0m\u001b[0margs\u001b[0m\u001b[0;34m,\u001b[0m \u001b[0;34m**\u001b[0m\u001b[0mkwargs\u001b[0m\u001b[0;34m)\u001b[0m\u001b[0;34m\u001b[0m\u001b[0;34m\u001b[0m\u001b[0m\n\u001b[0m\u001b[1;32m    312\u001b[0m \u001b[0;34m\u001b[0m\u001b[0m\n\u001b[1;32m    313\u001b[0m         \u001b[0;32mreturn\u001b[0m \u001b[0mwrapper\u001b[0m\u001b[0;34m\u001b[0m\u001b[0;34m\u001b[0m\u001b[0m\n",
            "\u001b[0;32m/usr/local/lib/python3.7/dist-packages/pandas/core/frame.py\u001b[0m in \u001b[0;36mdrop\u001b[0;34m(self, labels, axis, index, columns, level, inplace, errors)\u001b[0m\n\u001b[1;32m   4911\u001b[0m             \u001b[0mlevel\u001b[0m\u001b[0;34m=\u001b[0m\u001b[0mlevel\u001b[0m\u001b[0;34m,\u001b[0m\u001b[0;34m\u001b[0m\u001b[0;34m\u001b[0m\u001b[0m\n\u001b[1;32m   4912\u001b[0m             \u001b[0minplace\u001b[0m\u001b[0;34m=\u001b[0m\u001b[0minplace\u001b[0m\u001b[0;34m,\u001b[0m\u001b[0;34m\u001b[0m\u001b[0;34m\u001b[0m\u001b[0m\n\u001b[0;32m-> 4913\u001b[0;31m             \u001b[0merrors\u001b[0m\u001b[0;34m=\u001b[0m\u001b[0merrors\u001b[0m\u001b[0;34m,\u001b[0m\u001b[0;34m\u001b[0m\u001b[0;34m\u001b[0m\u001b[0m\n\u001b[0m\u001b[1;32m   4914\u001b[0m         )\n\u001b[1;32m   4915\u001b[0m \u001b[0;34m\u001b[0m\u001b[0m\n",
            "\u001b[0;32m/usr/local/lib/python3.7/dist-packages/pandas/core/generic.py\u001b[0m in \u001b[0;36mdrop\u001b[0;34m(self, labels, axis, index, columns, level, inplace, errors)\u001b[0m\n\u001b[1;32m   4148\u001b[0m         \u001b[0;32mfor\u001b[0m \u001b[0maxis\u001b[0m\u001b[0;34m,\u001b[0m \u001b[0mlabels\u001b[0m \u001b[0;32min\u001b[0m \u001b[0maxes\u001b[0m\u001b[0;34m.\u001b[0m\u001b[0mitems\u001b[0m\u001b[0;34m(\u001b[0m\u001b[0;34m)\u001b[0m\u001b[0;34m:\u001b[0m\u001b[0;34m\u001b[0m\u001b[0;34m\u001b[0m\u001b[0m\n\u001b[1;32m   4149\u001b[0m             \u001b[0;32mif\u001b[0m \u001b[0mlabels\u001b[0m \u001b[0;32mis\u001b[0m \u001b[0;32mnot\u001b[0m \u001b[0;32mNone\u001b[0m\u001b[0;34m:\u001b[0m\u001b[0;34m\u001b[0m\u001b[0;34m\u001b[0m\u001b[0m\n\u001b[0;32m-> 4150\u001b[0;31m                 \u001b[0mobj\u001b[0m \u001b[0;34m=\u001b[0m \u001b[0mobj\u001b[0m\u001b[0;34m.\u001b[0m\u001b[0m_drop_axis\u001b[0m\u001b[0;34m(\u001b[0m\u001b[0mlabels\u001b[0m\u001b[0;34m,\u001b[0m \u001b[0maxis\u001b[0m\u001b[0;34m,\u001b[0m \u001b[0mlevel\u001b[0m\u001b[0;34m=\u001b[0m\u001b[0mlevel\u001b[0m\u001b[0;34m,\u001b[0m \u001b[0merrors\u001b[0m\u001b[0;34m=\u001b[0m\u001b[0merrors\u001b[0m\u001b[0;34m)\u001b[0m\u001b[0;34m\u001b[0m\u001b[0;34m\u001b[0m\u001b[0m\n\u001b[0m\u001b[1;32m   4151\u001b[0m \u001b[0;34m\u001b[0m\u001b[0m\n\u001b[1;32m   4152\u001b[0m         \u001b[0;32mif\u001b[0m \u001b[0minplace\u001b[0m\u001b[0;34m:\u001b[0m\u001b[0;34m\u001b[0m\u001b[0;34m\u001b[0m\u001b[0m\n",
            "\u001b[0;32m/usr/local/lib/python3.7/dist-packages/pandas/core/generic.py\u001b[0m in \u001b[0;36m_drop_axis\u001b[0;34m(self, labels, axis, level, errors)\u001b[0m\n\u001b[1;32m   4212\u001b[0m                 \u001b[0mlabels_missing\u001b[0m \u001b[0;34m=\u001b[0m \u001b[0;34m(\u001b[0m\u001b[0maxis\u001b[0m\u001b[0;34m.\u001b[0m\u001b[0mget_indexer_for\u001b[0m\u001b[0;34m(\u001b[0m\u001b[0mlabels\u001b[0m\u001b[0;34m)\u001b[0m \u001b[0;34m==\u001b[0m \u001b[0;34m-\u001b[0m\u001b[0;36m1\u001b[0m\u001b[0;34m)\u001b[0m\u001b[0;34m.\u001b[0m\u001b[0many\u001b[0m\u001b[0;34m(\u001b[0m\u001b[0;34m)\u001b[0m\u001b[0;34m\u001b[0m\u001b[0;34m\u001b[0m\u001b[0m\n\u001b[1;32m   4213\u001b[0m                 \u001b[0;32mif\u001b[0m \u001b[0merrors\u001b[0m \u001b[0;34m==\u001b[0m \u001b[0;34m\"raise\"\u001b[0m \u001b[0;32mand\u001b[0m \u001b[0mlabels_missing\u001b[0m\u001b[0;34m:\u001b[0m\u001b[0;34m\u001b[0m\u001b[0;34m\u001b[0m\u001b[0m\n\u001b[0;32m-> 4214\u001b[0;31m                     \u001b[0;32mraise\u001b[0m \u001b[0mKeyError\u001b[0m\u001b[0;34m(\u001b[0m\u001b[0;34mf\"{labels} not found in axis\"\u001b[0m\u001b[0;34m)\u001b[0m\u001b[0;34m\u001b[0m\u001b[0;34m\u001b[0m\u001b[0m\n\u001b[0m\u001b[1;32m   4215\u001b[0m \u001b[0;34m\u001b[0m\u001b[0m\n\u001b[1;32m   4216\u001b[0m             \u001b[0mslicer\u001b[0m \u001b[0;34m=\u001b[0m \u001b[0;34m[\u001b[0m\u001b[0mslice\u001b[0m\u001b[0;34m(\u001b[0m\u001b[0;32mNone\u001b[0m\u001b[0;34m)\u001b[0m\u001b[0;34m]\u001b[0m \u001b[0;34m*\u001b[0m \u001b[0mself\u001b[0m\u001b[0;34m.\u001b[0m\u001b[0mndim\u001b[0m\u001b[0;34m\u001b[0m\u001b[0;34m\u001b[0m\u001b[0m\n",
            "\u001b[0;31mKeyError\u001b[0m: \"['quality'] not found in axis\""
          ]
        }
      ]
    },
    {
      "cell_type": "code",
      "source": [
        "#print(\"%.8f\" %s)abs(pca.components_)\n",
        "#'%f'%(abs(pca.components_))\n",
        "with np.printoptions(precision=5, suppress=True):\n",
        "    print(abs(pca.components_))"
      ],
      "metadata": {
        "id": "h9gWB_kPckTI",
        "outputId": "be668fe8-0d02-4981-d73e-e1d7ece4257b",
        "colab": {
          "base_uri": "https://localhost:8080/"
        }
      },
      "execution_count": 115,
      "outputs": [
        {
          "output_type": "stream",
          "name": "stdout",
          "text": [
            "[[0.00741 0.00118 0.00049 0.04102 0.00017 0.23048 0.97215 0.      0.00066\n",
            "  0.0007  0.00545 0.00517 0.00053 0.00033]\n",
            " [0.00537 0.00079 0.00025 0.01863 0.00007 0.9726  0.23137 0.      0.00065\n",
            "  0.00035 0.00289 0.00295 0.00917 0.00545]]\n"
          ]
        }
      ]
    },
    {
      "cell_type": "markdown",
      "source": [
        "The above implies the 6th and 7th columns are the most important"
      ],
      "metadata": {
        "id": "z5r5Db5DhR_o"
      }
    },
    {
      "cell_type": "code",
      "source": [
        "counter = Counter(wines['quality_label'])\n",
        "pca = PCA(n_components=2)\n",
        "wines_pca = pca.fit_transform(wines)\n",
        "for label, _ in counter.items():\n",
        "    row_ix = where(wines['quality_label'] == label)[0]\n",
        "    plt.scatter(wines_pca[row_ix, 0], wines_pca[row_ix, 1], label=str(label))\n",
        "plt.legend()\n",
        "plt.title(\"PCA Visualisation of Combined Wine Dataset\")\n",
        "plt.show()"
      ],
      "metadata": {
        "colab": {
          "base_uri": "https://localhost:8080/",
          "height": 281
        },
        "id": "J91mOoVA0znV",
        "outputId": "6a6c0d8a-9bb5-4ac3-9b52-16a5cf2e9cff"
      },
      "execution_count": 17,
      "outputs": [
        {
          "output_type": "display_data",
          "data": {
            "text/plain": [
              "<Figure size 432x288 with 1 Axes>"
            ],
            "image/png": "[encoded data removed]"
          },
          "metadata": {
            "needs_background": "light"
          }
        }
      ]
    },
    {
      "cell_type": "markdown",
      "source": [
        "##### Class 0"
      ],
      "metadata": {
        "id": "ceLv_kBK1GWY"
      }
    },
    {
      "cell_type": "code",
      "source": [
        "#counter = Counter(wines['quality_label'])\n",
        "#pca = PCA(n_components=2)\n",
        "wines_pca = pca.fit_transform(wines)\n",
        "for label, _ in counter.items():\n",
        "    row_ix = where(wines['quality_label'] == 0)[0]\n",
        "    plt.scatter(wines_pca[row_ix, 0], wines_pca[row_ix, 1], color='C0')\n",
        "#plt.legend()\n",
        "plt.title(\"PCA Visualisation of Wines rated low\")\n",
        "plt.show()"
      ],
      "metadata": {
        "colab": {
          "base_uri": "https://localhost:8080/",
          "height": 281
        },
        "id": "3GNQ3avX1D2w",
        "outputId": "32f590c2-45e0-41db-ca77-2ca77926d024"
      },
      "execution_count": 18,
      "outputs": [
        {
          "output_type": "display_data",
          "data": {
            "text/plain": [
              "<Figure size 432x288 with 1 Axes>"
            ],
            "image/png": "[encoded data removed]"
          },
          "metadata": {
            "needs_background": "light"
          }
        }
      ]
    },
    {
      "cell_type": "markdown",
      "source": [
        "##### Class 1"
      ],
      "metadata": {
        "id": "KP7Ly5vS1OKw"
      }
    },
    {
      "cell_type": "code",
      "source": [
        "wines_pca = pca.fit_transform(wines)\n",
        "for label, _ in counter.items():\n",
        "    row_ix = where(wines['quality_label'] == 1)[0]\n",
        "    plt.scatter(wines_pca[row_ix, 0], wines_pca[row_ix, 1], color='C1')\n",
        "#plt.legend()\n",
        "plt.title(\"PCA Visualisation of Wines rated medium\")\n",
        "plt.show()"
      ],
      "metadata": {
        "colab": {
          "base_uri": "https://localhost:8080/",
          "height": 281
        },
        "id": "GJfi7--D1Qu9",
        "outputId": "5a4288c1-ca7f-426d-825a-0f276fb7c944"
      },
      "execution_count": 19,
      "outputs": [
        {
          "output_type": "display_data",
          "data": {
            "text/plain": [
              "<Figure size 432x288 with 1 Axes>"
            ],
            "image/png": "[encoded data removed]"
          },
          "metadata": {
            "needs_background": "light"
          }
        }
      ]
    },
    {
      "cell_type": "markdown",
      "source": [
        "##### Class 2"
      ],
      "metadata": {
        "id": "fcnZq48z1SGB"
      }
    },
    {
      "cell_type": "code",
      "source": [
        "wines_pca = pca.fit_transform(wines)\n",
        "for label, _ in counter.items():\n",
        "    row_ix = where(wines['quality_label'] == 2)[0]\n",
        "    plt.scatter(wines_pca[row_ix, 0], wines_pca[row_ix, 1], color='C2')\n",
        "#plt.legend()\n",
        "plt.title(\"PCA Visualisation of Wines rated High\")\n",
        "plt.show()"
      ],
      "metadata": {
        "colab": {
          "base_uri": "https://localhost:8080/",
          "height": 281
        },
        "id": "B92nTwff1Zdm",
        "outputId": "fa7ef6ba-1db0-41af-a410-44f461ff08b4"
      },
      "execution_count": 20,
      "outputs": [
        {
          "output_type": "display_data",
          "data": {
            "text/plain": [
              "<Figure size 432x288 with 1 Axes>"
            ],
            "image/png": "[encoded data removed]"
          },
          "metadata": {
            "needs_background": "light"
          }
        }
      ]
    },
    {
      "cell_type": "code",
      "source": [
        "sns.heatmap(redwine.corr(), annot=True, cbar=False);"
      ],
      "metadata": {
        "colab": {
          "base_uri": "https://localhost:8080/",
          "height": 349
        },
        "id": "jB3j9JZy10lw",
        "outputId": "f7e3d40f-8aff-4a05-ab00-26d442cd47e9"
      },
      "execution_count": 21,
      "outputs": [
        {
          "output_type": "display_data",
          "data": {
            "text/plain": [
              "<Figure size 432x288 with 1 Axes>"
            ],
            "image/png": "[encoded data removed]"
          },
          "metadata": {
            "needs_background": "light"
          }
        }
      ]
    },
    {
      "cell_type": "code",
      "source": [
        "sns.heatmap(whitewine.corr(), annot=True, cbar=False);"
      ],
      "metadata": {
        "colab": {
          "base_uri": "https://localhost:8080/",
          "height": 349
        },
        "id": "W6fGF-IO2StB",
        "outputId": "481444d0-9369-4d85-99d1-a754eb2030a2"
      },
      "execution_count": 22,
      "outputs": [
        {
          "output_type": "display_data",
          "data": {
            "text/plain": [
              "<Figure size 432x288 with 1 Axes>"
            ],
            "image/png": "[encoded data removed]"
          },
          "metadata": {
            "needs_background": "light"
          }
        }
      ]
    },
    {
      "cell_type": "markdown",
      "source": [
        "Alcohol, sulphates and citric acid most correlated to quality of red wine. While for white wine, alcohol, lightness (negative correlation to density) and lack of chlorides is most related to resultant quality"
      ],
      "metadata": {
        "id": "-u_C8kiBXyot"
      }
    },
    {
      "cell_type": "markdown",
      "source": [],
      "metadata": {
        "id": "SzQjVXwmuAjF"
      }
    },
    {
      "cell_type": "markdown",
      "source": [
        "Set wine quality to high, med, low: <br>\n",
        "Low for less or equal to 5. Set to 0 <br>\n",
        "Medium between 6 and 7. Set to 1 <br>\n",
        "High for more then 7. Set to 2"
      ],
      "metadata": {
        "id": "cHkjZ8qrzL8W"
      }
    },
    {
      "cell_type": "code",
      "source": [
        "wines['quality_label'].value_counts() # Still pretty unbalanced but usable"
      ],
      "metadata": {
        "id": "gL3xt2PL8N_t",
        "colab": {
          "base_uri": "https://localhost:8080/"
        },
        "outputId": "3f56c515-9628-4d8e-aeba-c45575ef5fd7"
      },
      "execution_count": 23,
      "outputs": [
        {
          "output_type": "execute_result",
          "data": {
            "text/plain": [
              "1    3915\n",
              "0    2384\n",
              "2     198\n",
              "Name: quality_label, dtype: int64"
            ]
          },
          "metadata": {},
          "execution_count": 23
        }
      ]
    },
    {
      "cell_type": "code",
      "source": [
        "wines.columns"
      ],
      "metadata": {
        "id": "pmCYle-S8NzE",
        "colab": {
          "base_uri": "https://localhost:8080/"
        },
        "outputId": "87265f42-7ae8-4a4d-c0cb-e761dd92e9cf"
      },
      "execution_count": 24,
      "outputs": [
        {
          "output_type": "execute_result",
          "data": {
            "text/plain": [
              "Index(['fixed acidity', 'volatile acidity', 'citric acid', 'residual sugar',\n",
              "       'chlorides', 'free sulfur dioxide', 'total sulfur dioxide', 'density',\n",
              "       'pH', 'sulphates', 'alcohol', 'Winetype', 'quality', 'quality_label'],\n",
              "      dtype='object')"
            ]
          },
          "metadata": {},
          "execution_count": 24
        }
      ]
    },
    {
      "cell_type": "markdown",
      "source": [
        "Visualisation by wine quality in buckets"
      ],
      "metadata": {
        "id": "uGQ3bxDYSGE-"
      }
    },
    {
      "cell_type": "code",
      "source": [
        "counter = Counter(wines['quality_label'])\n",
        "pca = PCA(n_components=2)\n",
        "wines_pca = pca.fit_transform(wines)\n",
        "for label, _ in counter.items():\n",
        "    row_ix = where(wines['quality_label'] == label)[0]\n",
        "    plt.scatter(wines_pca[row_ix, 0], wines_pca[row_ix, 1], label=str(label))\n",
        "plt.legend()\n",
        "plt.title(\"PCA Visualisation of Combined Wine Dataset\")\n",
        "plt.show()"
      ],
      "metadata": {
        "colab": {
          "base_uri": "https://localhost:8080/",
          "height": 281
        },
        "id": "TFJ21a3pSEtS",
        "outputId": "858c2784-3bbe-4080-dbb7-3d4f697aac9e"
      },
      "execution_count": 25,
      "outputs": [
        {
          "output_type": "display_data",
          "data": {
            "text/plain": [
              "<Figure size 432x288 with 1 Axes>"
            ],
            "image/png": "[encoded data removed]"
          },
          "metadata": {
            "needs_background": "light"
          }
        }
      ]
    },
    {
      "cell_type": "markdown",
      "source": [
        "Low quality wines are outliers mainly"
      ],
      "metadata": {
        "id": "2fNh5C8hSXIn"
      }
    },
    {
      "cell_type": "markdown",
      "source": [
        "### Normalizing data"
      ],
      "metadata": {
        "id": "5PoQ8-HrBJl5"
      }
    },
    {
      "cell_type": "code",
      "source": [
        "X = wines.iloc[: , :-2]\n",
        "y = wines.iloc[:,-1:]"
      ],
      "metadata": {
        "id": "o0g9F2EFBL7B"
      },
      "execution_count": 26,
      "outputs": []
    },
    {
      "cell_type": "code",
      "source": [
        "scaler = MinMaxScaler()\n",
        "X = scaler.fit_transform(X)"
      ],
      "metadata": {
        "id": "XbOp4DgjCB_a"
      },
      "execution_count": 27,
      "outputs": []
    },
    {
      "cell_type": "code",
      "source": [
        "X.shape"
      ],
      "metadata": {
        "colab": {
          "base_uri": "https://localhost:8080/"
        },
        "id": "9n-IqxvUoOVa",
        "outputId": "4136e99c-533a-4ac9-fe81-f190428b1812"
      },
      "execution_count": 28,
      "outputs": [
        {
          "output_type": "execute_result",
          "data": {
            "text/plain": [
              "(6497, 12)"
            ]
          },
          "metadata": {},
          "execution_count": 28
        }
      ]
    },
    {
      "cell_type": "code",
      "source": [
        "wines.shape"
      ],
      "metadata": {
        "colab": {
          "base_uri": "https://localhost:8080/"
        },
        "id": "-js57_4aoUR5",
        "outputId": "98018862-e8f6-40a9-b09d-8c3aacbb387a"
      },
      "execution_count": 29,
      "outputs": [
        {
          "output_type": "execute_result",
          "data": {
            "text/plain": [
              "(6497, 14)"
            ]
          },
          "metadata": {},
          "execution_count": 29
        }
      ]
    },
    {
      "cell_type": "markdown",
      "source": [
        "### Splitting into Train Test sets"
      ],
      "metadata": {
        "id": "t-FDnKG8KYb2"
      }
    },
    {
      "cell_type": "code",
      "source": [
        "from sklearn.model_selection import train_test_split"
      ],
      "metadata": {
        "id": "1RvH8iTAsgve"
      },
      "execution_count": 30,
      "outputs": []
    },
    {
      "cell_type": "code",
      "source": [
        "X_train, X_test, y_train, y_test = train_test_split(X, y, stratify = y, test_size=0.2, random_state=20)"
      ],
      "metadata": {
        "id": "yt4qAJmd2yYO"
      },
      "execution_count": 31,
      "outputs": []
    },
    {
      "cell_type": "code",
      "source": [
        "X_train.shape #check"
      ],
      "metadata": {
        "colab": {
          "base_uri": "https://localhost:8080/"
        },
        "id": "7YDrIyzv4rsv",
        "outputId": "3db746c4-0706-4ce4-c33b-b7ca017756c2"
      },
      "execution_count": 32,
      "outputs": [
        {
          "output_type": "execute_result",
          "data": {
            "text/plain": [
              "(5197, 12)"
            ]
          },
          "metadata": {},
          "execution_count": 32
        }
      ]
    },
    {
      "cell_type": "code",
      "source": [
        "X_test.shape"
      ],
      "metadata": {
        "colab": {
          "base_uri": "https://localhost:8080/"
        },
        "id": "Y3thEEbq5G1O",
        "outputId": "ac755c48-3569-4f54-a140-9a45dc076e1f"
      },
      "execution_count": 33,
      "outputs": [
        {
          "output_type": "execute_result",
          "data": {
            "text/plain": [
              "(1300, 12)"
            ]
          },
          "metadata": {},
          "execution_count": 33
        }
      ]
    },
    {
      "cell_type": "code",
      "source": [
        "y_train.shape"
      ],
      "metadata": {
        "colab": {
          "base_uri": "https://localhost:8080/"
        },
        "id": "ndnbZhGj5KWI",
        "outputId": "d28345f9-85b0-4ac7-f382-49fa6da4fc85"
      },
      "execution_count": 34,
      "outputs": [
        {
          "output_type": "execute_result",
          "data": {
            "text/plain": [
              "(5197, 1)"
            ]
          },
          "metadata": {},
          "execution_count": 34
        }
      ]
    },
    {
      "cell_type": "code",
      "source": [
        "y_test.shape"
      ],
      "metadata": {
        "colab": {
          "base_uri": "https://localhost:8080/"
        },
        "id": "UnDqsJIw5OB6",
        "outputId": "3e4e110a-370b-483c-ab1e-5ac3697cb2cf"
      },
      "execution_count": 35,
      "outputs": [
        {
          "output_type": "execute_result",
          "data": {
            "text/plain": [
              "(1300, 1)"
            ]
          },
          "metadata": {},
          "execution_count": 35
        }
      ]
    },
    {
      "cell_type": "markdown",
      "source": [
        "## Modelling"
      ],
      "metadata": {
        "id": "_WO-l4kQpgon"
      }
    },
    {
      "cell_type": "markdown",
      "source": [
        "### Knn"
      ],
      "metadata": {
        "id": "O-6eUzVVqiIN"
      }
    },
    {
      "cell_type": "markdown",
      "source": [
        "With Standard knn on all types of data.\n",
        "As per literature, the optimal K value usually found is the square root of N, where N is the total number of samples"
      ],
      "metadata": {
        "id": "dtEQCOq2wkZT"
      }
    },
    {
      "cell_type": "code",
      "source": [
        "cv = StratifiedKFold(n_splits=10, shuffle=True, random_state=1)\n",
        "scoring = {'accuracy' : make_scorer(accuracy_score),\n",
        "           'f1_score' : make_scorer(f1_score, average='macro')}"
      ],
      "metadata": {
        "id": "ew8y_QzQmh9I"
      },
      "execution_count": 36,
      "outputs": []
    },
    {
      "cell_type": "code",
      "source": [
        "knn_clf = KNeighborsClassifier()"
      ],
      "metadata": {
        "id": "quNb3xc6lDNZ"
      },
      "execution_count": 37,
      "outputs": []
    },
    {
      "cell_type": "code",
      "source": [
        "knn_clf.fit(X_train,np.ravel(y_train))\n",
        "#knn_clf.fit(X_train,y_train)"
      ],
      "metadata": {
        "id": "PQ3SeaeLoSut",
        "colab": {
          "base_uri": "https://localhost:8080/"
        },
        "outputId": "e540e731-fdd9-4ce0-a897-2281cf59575b"
      },
      "execution_count": 38,
      "outputs": [
        {
          "output_type": "execute_result",
          "data": {
            "text/plain": [
              "KNeighborsClassifier()"
            ]
          },
          "metadata": {},
          "execution_count": 38
        }
      ]
    },
    {
      "cell_type": "code",
      "source": [
        "cv_scores = cross_validate(knn_clf, X_train, np.ravel(y_train), cv=cv)\n",
        "#cv_scores = cross_validate(knn_clf, X_train, y_train, cv=cv)"
      ],
      "metadata": {
        "id": "9FhMhKKgoeHG"
      },
      "execution_count": 39,
      "outputs": []
    },
    {
      "cell_type": "code",
      "source": [
        "print(\"Mean Cross validation Scores\", np.mean(cv_scores['test_score']))"
      ],
      "metadata": {
        "id": "7Kwjab0FpYh5",
        "colab": {
          "base_uri": "https://localhost:8080/"
        },
        "outputId": "341d52a8-3991-4f69-8b3b-9535b6023ed5"
      },
      "execution_count": 40,
      "outputs": [
        {
          "output_type": "stream",
          "name": "stdout",
          "text": [
            "Mean Cross validation Scores 0.7229124055135616\n"
          ]
        }
      ]
    },
    {
      "cell_type": "code",
      "source": [
        "cv_scores"
      ],
      "metadata": {
        "colab": {
          "base_uri": "https://localhost:8080/"
        },
        "id": "Xxaz_R5Q-B5z",
        "outputId": "40258c84-e51f-4bef-b920-9b0bd5524563"
      },
      "execution_count": 41,
      "outputs": [
        {
          "output_type": "execute_result",
          "data": {
            "text/plain": [
              "{'fit_time': array([0.0089736 , 0.00753689, 0.00712824, 0.00706673, 0.00703478,\n",
              "        0.00730395, 0.00725365, 0.00705266, 0.00709867, 0.00704503]),\n",
              " 'score_time': array([0.0329268 , 0.03862214, 0.0326755 , 0.03553343, 0.03375435,\n",
              "        0.04185247, 0.03477836, 0.03622055, 0.03296971, 0.03710365]),\n",
              " 'test_score': array([0.71923077, 0.72307692, 0.71730769, 0.725     , 0.73269231,\n",
              "        0.72884615, 0.73846154, 0.70520231, 0.73603083, 0.70327553])}"
            ]
          },
          "metadata": {},
          "execution_count": 41
        }
      ]
    },
    {
      "cell_type": "markdown",
      "source": [
        "Hyperparameter Tuning"
      ],
      "metadata": {
        "id": "Y0an9jY6xeG4"
      }
    },
    {
      "cell_type": "code",
      "source": [
        "param_grid = {'n_neighbors': list(range(3,50,2)),\n",
        "              'weights':['uniform', 'distance']\n",
        "              }"
      ],
      "metadata": {
        "id": "06IXtP1ExbUK"
      },
      "execution_count": 42,
      "outputs": []
    },
    {
      "cell_type": "code",
      "source": [
        "f1_sc = make_scorer(f1_score, average='micro')"
      ],
      "metadata": {
        "id": "2rpQtaeGxbMQ"
      },
      "execution_count": 43,
      "outputs": []
    },
    {
      "cell_type": "code",
      "source": [
        "grid_knn_estimator = model_selection.GridSearchCV(knn_clf,\n",
        "                                                 param_grid,\n",
        "                                                 scoring=f1_sc,\n",
        "                                                 refit=True,\n",
        "                                                 cv=3,\n",
        "                                                 return_train_score=True)"
      ],
      "metadata": {
        "id": "OxxylRomxbFE"
      },
      "execution_count": 44,
      "outputs": []
    },
    {
      "cell_type": "code",
      "source": [
        "knn_model = grid_knn_estimator.fit(X_train,np.ravel(y_train))"
      ],
      "metadata": {
        "id": "1B1saw2mxa6t"
      },
      "execution_count": 45,
      "outputs": []
    },
    {
      "cell_type": "markdown",
      "source": [],
      "metadata": {
        "id": "RpZshLUnbF-J"
      }
    },
    {
      "cell_type": "code",
      "source": [
        "print('Optimum parameters', knn_model.best_params_)"
      ],
      "metadata": {
        "id": "FGmyXFSiyMv5",
        "colab": {
          "base_uri": "https://localhost:8080/"
        },
        "outputId": "e753bb11-2826-4800-c6bf-3f2dc25ea23f"
      },
      "execution_count": 46,
      "outputs": [
        {
          "output_type": "stream",
          "name": "stdout",
          "text": [
            "Optimum parameters {'n_neighbors': 31, 'weights': 'distance'}\n"
          ]
        }
      ]
    },
    {
      "cell_type": "markdown",
      "source": [
        "#### Parameter selection graphs and tables"
      ],
      "metadata": {
        "id": "on43HN0-qTsv"
      }
    },
    {
      "cell_type": "code",
      "source": [
        "n_neighborss = list(range(3,41,2))"
      ],
      "metadata": {
        "id": "KXnyN68Fqk29"
      },
      "execution_count": 47,
      "outputs": []
    },
    {
      "cell_type": "code",
      "source": [
        "f1_results = []\n",
        "accuracy_results = []\n",
        "#roc_auc_results = []\n",
        "\n",
        "for n_neighbors in n_neighborss:\n",
        "    knn = KNeighborsClassifier(n_neighbors = n_neighbors)\n",
        "    knn.fit(X_train, np.ravel(y_train))\n",
        "    f1_scores = cross_val_score(knn, X_train, np.ravel(y_train), cv=cv, scoring = 'f1_macro')\n",
        "    accuracy_scores = cross_val_score(knn, X_train, np.ravel(y_train), cv=cv, scoring = 'accuracy')\n",
        "    #roc_auc_scores = cross_val_score(knn, X_train, np.ravel(y_train), cv=cv, scoring = 'roc_auc')\n",
        "    f1_results.append(np.mean(f1_scores))\n",
        "    accuracy_results.append(np.mean(accuracy_scores))\n",
        "    #roc_auc_results.append(np.mean(roc_auc_scores))\n",
        "  \n",
        "from matplotlib.legend_handler import HandlerLine2D\n",
        "line1, = plt.plot(n_neighborss, f1_results, 'b', label=\"F1 scoring\")\n",
        "line2, = plt.plot(n_neighborss, accuracy_results, 'r', label=\"Accuracy scoring\")\n",
        "#line3, = plt.plot(n_neighborss, roc_auc_results, 'g', label=\"ROC AUC scoring\")\n",
        "plt.legend(handler_map={line1: HandlerLine2D(numpoints=2)})\n",
        "plt.ylabel('Scores')\n",
        "plt.xlabel('n_neighbors')\n",
        "plt.show()"
      ],
      "metadata": {
        "id": "nwde18QSprfT",
        "colab": {
          "base_uri": "https://localhost:8080/",
          "height": 280
        },
        "outputId": "c9bf743d-cb60-42e6-9b84-d43ed54a3bb1"
      },
      "execution_count": 48,
      "outputs": [
        {
          "output_type": "display_data",
          "data": {
            "text/plain": [
              "<Figure size 432x288 with 1 Axes>"
            ],
            "image/png": "[encoded data removed]"
          },
          "metadata": {
            "needs_background": "light"
          }
        }
      ]
    },
    {
      "cell_type": "markdown",
      "source": [
        "Training with optimum parameters"
      ],
      "metadata": {
        "id": "gafH2htnyO-P"
      }
    },
    {
      "cell_type": "code",
      "source": [
        "knn_clf = KNeighborsClassifier(n_neighbors= 31,\n",
        "                               weights = 'distance'\n",
        "                              )"
      ],
      "metadata": {
        "id": "lZM9SJxfyMoJ"
      },
      "execution_count": 49,
      "outputs": []
    },
    {
      "cell_type": "code",
      "source": [
        "knn_clf.fit(X_train, np.ravel(y_train))"
      ],
      "metadata": {
        "id": "1Urv42891JTS",
        "colab": {
          "base_uri": "https://localhost:8080/"
        },
        "outputId": "a38f811e-f670-447c-dee6-3f1b704c1b73"
      },
      "execution_count": 50,
      "outputs": [
        {
          "output_type": "execute_result",
          "data": {
            "text/plain": [
              "KNeighborsClassifier(n_neighbors=31, weights='distance')"
            ]
          },
          "metadata": {},
          "execution_count": 50
        }
      ]
    },
    {
      "cell_type": "code",
      "source": [
        "cv_scores = cross_validate(knn_clf, X_train, np.ravel(y_train), cv=cv, scoring = scoring)"
      ],
      "metadata": {
        "id": "5itbB9tlyMbs"
      },
      "execution_count": 51,
      "outputs": []
    },
    {
      "cell_type": "code",
      "source": [
        "print(\"Mean Cross validation Scores after Hyperparameter Tuning|\", np.mean(cv_scores['test_f1_score']))"
      ],
      "metadata": {
        "id": "VSKObtrRyto4",
        "colab": {
          "base_uri": "https://localhost:8080/"
        },
        "outputId": "0a49eadc-63ed-46a4-ef39-d6dbd8928b1b"
      },
      "execution_count": 52,
      "outputs": [
        {
          "output_type": "stream",
          "name": "stdout",
          "text": [
            "Mean Cross validation Scores after Hyperparameter Tuning| 0.6673720535123226\n"
          ]
        }
      ]
    },
    {
      "cell_type": "markdown",
      "source": [
        "On the test set"
      ],
      "metadata": {
        "id": "dTZZ4xQl1DLC"
      }
    },
    {
      "cell_type": "code",
      "source": [
        "y_train_pred_knn = knn_clf.predict(X_train)\n",
        "y_test_pred_knn = knn_clf.predict(X_test)"
      ],
      "metadata": {
        "id": "xaDxaIDt1CeI"
      },
      "execution_count": 53,
      "outputs": []
    },
    {
      "cell_type": "markdown",
      "source": [
        "Model Score"
      ],
      "metadata": {
        "id": "KTHRMZR2kOEo"
      }
    },
    {
      "cell_type": "code",
      "source": [
        "print(\"Score for Training set\",knn_clf.score(X_train, y_train))\n",
        "print(\"Score for Testing set\",knn_clf.score(X_test, y_test))"
      ],
      "metadata": {
        "id": "tKp1U3oLafFW",
        "colab": {
          "base_uri": "https://localhost:8080/"
        },
        "outputId": "e13864dc-d6b9-46de-d0c5-5629832a5e33"
      },
      "execution_count": 54,
      "outputs": [
        {
          "output_type": "stream",
          "name": "stdout",
          "text": [
            "Score for Training set 1.0\n",
            "Score for Testing set 0.8038461538461539\n"
          ]
        }
      ]
    },
    {
      "cell_type": "markdown",
      "source": [
        "Getting the confusion matrix for prediction on the test set"
      ],
      "metadata": {
        "id": "HjbEELMc0n_L"
      }
    },
    {
      "cell_type": "code",
      "source": [
        "confusion_matrix(y_test, y_test_pred_knn)"
      ],
      "metadata": {
        "id": "OC6u5eTd0mf4",
        "colab": {
          "base_uri": "https://localhost:8080/"
        },
        "outputId": "f2d7518a-258c-4498-bab4-08f924ab4fb3"
      },
      "execution_count": 55,
      "outputs": [
        {
          "output_type": "execute_result",
          "data": {
            "text/plain": [
              "array([[314, 163,   0],\n",
              "       [ 67, 716,   0],\n",
              "       [  1,  24,  15]])"
            ]
          },
          "metadata": {},
          "execution_count": 55
        }
      ]
    },
    {
      "cell_type": "code",
      "source": [
        "print(classification_report(y_test, y_test_pred_knn))"
      ],
      "metadata": {
        "id": "_dObH8qa18b9",
        "colab": {
          "base_uri": "https://localhost:8080/"
        },
        "outputId": "d03a31c4-0965-425f-bfc9-121e9b9137a5"
      },
      "execution_count": 56,
      "outputs": [
        {
          "output_type": "stream",
          "name": "stdout",
          "text": [
            "              precision    recall  f1-score   support\n",
            "\n",
            "           0       0.82      0.66      0.73       477\n",
            "           1       0.79      0.91      0.85       783\n",
            "           2       1.00      0.38      0.55        40\n",
            "\n",
            "    accuracy                           0.80      1300\n",
            "   macro avg       0.87      0.65      0.71      1300\n",
            "weighted avg       0.81      0.80      0.80      1300\n",
            "\n"
          ]
        }
      ]
    },
    {
      "cell_type": "markdown",
      "source": [
        "Note to self: Oversample underrepresented classes ASAP\n",
        "https://machinelearningmastery.com/smote-oversampling-for-imbalanced-classification/"
      ],
      "metadata": {
        "id": "Lq5WhEwo26Ak"
      }
    },
    {
      "cell_type": "markdown",
      "source": [
        "### Naïve Bayes"
      ],
      "metadata": {
        "id": "zr9Qv7c6qmyi"
      }
    },
    {
      "cell_type": "code",
      "source": [
        "from sklearn.naive_bayes import GaussianNB, MultinomialNB\n",
        "from sklearn.metrics import f1_score, accuracy_score"
      ],
      "metadata": {
        "id": "nXq0pnWWsMth"
      },
      "execution_count": 57,
      "outputs": []
    },
    {
      "cell_type": "code",
      "source": [
        "nb_clf = GaussianNB()"
      ],
      "metadata": {
        "id": "f91CwprQsU9K"
      },
      "execution_count": 58,
      "outputs": []
    },
    {
      "cell_type": "code",
      "source": [
        "nb_clf.fit(X_train,np.ravel(y_train))"
      ],
      "metadata": {
        "id": "SfNJf4ADtXEK",
        "colab": {
          "base_uri": "https://localhost:8080/"
        },
        "outputId": "6b9ec1b5-ce04-40d0-cd4c-345e2456e5fc"
      },
      "execution_count": 59,
      "outputs": [
        {
          "output_type": "execute_result",
          "data": {
            "text/plain": [
              "GaussianNB()"
            ]
          },
          "metadata": {},
          "execution_count": 59
        }
      ]
    },
    {
      "cell_type": "code",
      "source": [
        "# Predict\n",
        "y_nb_train_pred = nb_clf.predict(X_train)\n",
        "y_nb_test_pred = nb_clf.predict(X_test)\n",
        "# Print accuracy\n",
        "print(\"score for Training set\",nb_clf.score(X_train, y_train))\n",
        "print(\"score for Testing set\",nb_clf.score(X_test, y_test))\n",
        "#print(y_nb_test_pred)"
      ],
      "metadata": {
        "id": "YfacTrxMtso3",
        "colab": {
          "base_uri": "https://localhost:8080/"
        },
        "outputId": "a4ae2aaa-220d-40e4-98d2-6586fa3d7bea"
      },
      "execution_count": 60,
      "outputs": [
        {
          "output_type": "stream",
          "name": "stdout",
          "text": [
            "score for Training set 0.6109293823359631\n",
            "score for Testing set 0.5969230769230769\n"
          ]
        }
      ]
    },
    {
      "cell_type": "code",
      "source": [
        "print(\"Score for Training set\",nb_clf.score(X_train, y_train))\n",
        "print(\"Score for Testing set\",nb_clf.score(X_test, y_test))"
      ],
      "metadata": {
        "colab": {
          "base_uri": "https://localhost:8080/"
        },
        "id": "JVbBKeiZpgIg",
        "outputId": "78ad6450-e1d3-481d-926d-7381dfafaa65"
      },
      "execution_count": 61,
      "outputs": [
        {
          "output_type": "stream",
          "name": "stdout",
          "text": [
            "Score for Training set 0.6109293823359631\n",
            "Score for Testing set 0.5969230769230769\n"
          ]
        }
      ]
    },
    {
      "cell_type": "code",
      "source": [
        "cv_scores = cross_validate(nb_clf, X_train, np.ravel(y_train), cv=cv, scoring = scoring)"
      ],
      "metadata": {
        "id": "yPHmtf1_p8-a"
      },
      "execution_count": 62,
      "outputs": []
    },
    {
      "cell_type": "code",
      "source": [
        "print(\"Mean Cross validation Scores for NB|\", np.mean(cv_scores['test_f1_score']))"
      ],
      "metadata": {
        "colab": {
          "base_uri": "https://localhost:8080/"
        },
        "id": "xlqJL2MmqLoB",
        "outputId": "68209f68-ff23-477d-9431-8b5651a14659"
      },
      "execution_count": 63,
      "outputs": [
        {
          "output_type": "stream",
          "name": "stdout",
          "text": [
            "Mean Cross validation Scores for NB| 0.46321641473034303\n"
          ]
        }
      ]
    },
    {
      "cell_type": "markdown",
      "source": [
        "Classification Report for NB"
      ],
      "metadata": {
        "id": "6dCF8hGybsn5"
      }
    },
    {
      "cell_type": "code",
      "source": [
        "print(classification_report(y_test, y_nb_test_pred))"
      ],
      "metadata": {
        "id": "AHRDpzN9IpoB",
        "colab": {
          "base_uri": "https://localhost:8080/"
        },
        "outputId": "de49117c-a1a5-4405-ab4f-667410df054c"
      },
      "execution_count": 64,
      "outputs": [
        {
          "output_type": "stream",
          "name": "stdout",
          "text": [
            "              precision    recall  f1-score   support\n",
            "\n",
            "           0       0.56      0.44      0.49       477\n",
            "           1       0.66      0.71      0.68       783\n",
            "           2       0.10      0.17      0.13        40\n",
            "\n",
            "    accuracy                           0.60      1300\n",
            "   macro avg       0.44      0.44      0.43      1300\n",
            "weighted avg       0.60      0.60      0.60      1300\n",
            "\n"
          ]
        }
      ]
    },
    {
      "cell_type": "code",
      "source": [
        "mnb_clf = MultinomialNB()"
      ],
      "metadata": {
        "id": "fAuN3tFAplg9"
      },
      "execution_count": 65,
      "outputs": []
    },
    {
      "cell_type": "code",
      "source": [
        "mnb_clf.fit(X_train,np.ravel(y_train))"
      ],
      "metadata": {
        "colab": {
          "base_uri": "https://localhost:8080/"
        },
        "id": "eZmcRI-Npq9Q",
        "outputId": "c7d46613-e6b0-41fe-ad8a-2bc3f7ebe2b0"
      },
      "execution_count": 66,
      "outputs": [
        {
          "output_type": "execute_result",
          "data": {
            "text/plain": [
              "MultinomialNB()"
            ]
          },
          "metadata": {},
          "execution_count": 66
        }
      ]
    },
    {
      "cell_type": "code",
      "source": [
        "# Predict\n",
        "y_mnb_train_pred = mnb_clf.predict(X_train)\n",
        "y_mnb_test_pred = mnb_clf.predict(X_test)\n",
        "# Print accuracy\n",
        "print(\"score for Training set\",mnb_clf.score(X_train, y_train))\n",
        "print(\"score for Testing set\",mnb_clf.score(X_test, y_test))\n",
        "#print(y_nb_test_pred)"
      ],
      "metadata": {
        "colab": {
          "base_uri": "https://localhost:8080/"
        },
        "id": "pCUMKh7HpwP5",
        "outputId": "315f2158-053c-4fdf-8c6e-5f662fcc2870"
      },
      "execution_count": 67,
      "outputs": [
        {
          "output_type": "stream",
          "name": "stdout",
          "text": [
            "score for Training set 0.6026553781027516\n",
            "score for Testing set 0.6023076923076923\n"
          ]
        }
      ]
    },
    {
      "cell_type": "code",
      "source": [
        "cv_scores = cross_validate(mnb_clf, X_train, np.ravel(y_train), cv=cv, scoring = scoring)"
      ],
      "metadata": {
        "id": "2bUm3wOrpwMl"
      },
      "execution_count": 68,
      "outputs": []
    },
    {
      "cell_type": "code",
      "source": [
        "print(\"Mean Cross validation Scores for MNB\", np.mean(cv_scores['test_f1_score']))"
      ],
      "metadata": {
        "colab": {
          "base_uri": "https://localhost:8080/"
        },
        "id": "H-ql3B0PpwJo",
        "outputId": "de6878aa-21f2-42d2-d383-4f23af48e354"
      },
      "execution_count": 69,
      "outputs": [
        {
          "output_type": "stream",
          "name": "stdout",
          "text": [
            "Mean Cross validation Scores for MNB 0.25069037230276725\n"
          ]
        }
      ]
    },
    {
      "cell_type": "markdown",
      "source": [
        "### SVM"
      ],
      "metadata": {
        "id": "P_qPI-P61qWZ"
      }
    },
    {
      "cell_type": "code",
      "source": [
        "from sklearn.svm import SVC, SVR"
      ],
      "metadata": {
        "id": "7BnAz3ET1zs_"
      },
      "execution_count": 70,
      "outputs": []
    },
    {
      "cell_type": "code",
      "source": [
        "svm_clf = SVC()\n",
        "svm_clf.fit(X_train, np.ravel(y_train))"
      ],
      "metadata": {
        "id": "ioKkxisJ14Rb",
        "colab": {
          "base_uri": "https://localhost:8080/"
        },
        "outputId": "47fa51eb-9f00-4d3c-dd09-3bade3a0ee8c"
      },
      "execution_count": 71,
      "outputs": [
        {
          "output_type": "execute_result",
          "data": {
            "text/plain": [
              "SVC()"
            ]
          },
          "metadata": {},
          "execution_count": 71
        }
      ]
    },
    {
      "cell_type": "code",
      "source": [
        "y_svm_test_pred = svm_clf.predict(X_test)\n",
        "print('Mean Squared Error:', mean_squared_error(y_test, y_svm_test_pred))\n",
        "print('Score', svm_clf.score(X_test, y_test))\n",
        "print(classification_report(y_test, y_svm_test_pred))"
      ],
      "metadata": {
        "id": "c0x_rOaz2IT8",
        "colab": {
          "base_uri": "https://localhost:8080/"
        },
        "outputId": "18c613d0-5354-49d8-f310-aaf648f1bfd7"
      },
      "execution_count": 72,
      "outputs": [
        {
          "output_type": "stream",
          "name": "stdout",
          "text": [
            "Mean Squared Error: 0.27307692307692305\n",
            "Score 0.7292307692307692\n",
            "              precision    recall  f1-score   support\n",
            "\n",
            "           0       0.74      0.53      0.62       477\n",
            "           1       0.73      0.89      0.80       783\n",
            "           2       0.00      0.00      0.00        40\n",
            "\n",
            "    accuracy                           0.73      1300\n",
            "   macro avg       0.49      0.47      0.47      1300\n",
            "weighted avg       0.71      0.73      0.71      1300\n",
            "\n"
          ]
        },
        {
          "output_type": "stream",
          "name": "stderr",
          "text": [
            "/usr/local/lib/python3.7/dist-packages/sklearn/metrics/_classification.py:1318: UndefinedMetricWarning: Precision and F-score are ill-defined and being set to 0.0 in labels with no predicted samples. Use `zero_division` parameter to control this behavior.\n",
            "  _warn_prf(average, modifier, msg_start, len(result))\n",
            "/usr/local/lib/python3.7/dist-packages/sklearn/metrics/_classification.py:1318: UndefinedMetricWarning: Precision and F-score are ill-defined and being set to 0.0 in labels with no predicted samples. Use `zero_division` parameter to control this behavior.\n",
            "  _warn_prf(average, modifier, msg_start, len(result))\n",
            "/usr/local/lib/python3.7/dist-packages/sklearn/metrics/_classification.py:1318: UndefinedMetricWarning: Precision and F-score are ill-defined and being set to 0.0 in labels with no predicted samples. Use `zero_division` parameter to control this behavior.\n",
            "  _warn_prf(average, modifier, msg_start, len(result))\n"
          ]
        }
      ]
    },
    {
      "cell_type": "markdown",
      "source": [
        "### Random Forest"
      ],
      "metadata": {
        "id": "CPYNRMOrqqr7"
      }
    },
    {
      "cell_type": "markdown",
      "source": [
        "Grid estimator doesnt run well on colab <br>\n",
        "After running on local jupyter <br>\n",
        "{'criterion': 'gini', 'n_estimators': 74}"
      ],
      "metadata": {
        "id": "th-p3HZawvpe"
      }
    },
    {
      "cell_type": "code",
      "source": [
        "from sklearn.ensemble import RandomForestClassifier\n",
        "from sklearn import metrics"
      ],
      "metadata": {
        "id": "0mCzY0PsZW-q"
      },
      "execution_count": 73,
      "outputs": []
    },
    {
      "cell_type": "code",
      "source": [
        "rf_clf = RandomForestClassifier(n_estimators=74,random_state=20)\n",
        "rf_clf.fit(X_train, y_train.values.ravel())"
      ],
      "metadata": {
        "id": "wMb2RyFJZe1c",
        "colab": {
          "base_uri": "https://localhost:8080/"
        },
        "outputId": "fc401fe8-9c48-4753-d2a6-b82b7fbb8847"
      },
      "execution_count": 74,
      "outputs": [
        {
          "output_type": "execute_result",
          "data": {
            "text/plain": [
              "RandomForestClassifier(n_estimators=74, random_state=20)"
            ]
          },
          "metadata": {},
          "execution_count": 74
        }
      ]
    },
    {
      "cell_type": "code",
      "source": [
        "rf_clf.get_params()"
      ],
      "metadata": {
        "colab": {
          "base_uri": "https://localhost:8080/"
        },
        "id": "o6rJHNwlxLFN",
        "outputId": "b041b39e-0e10-4489-c708-7297bc107bb4"
      },
      "execution_count": 75,
      "outputs": [
        {
          "output_type": "execute_result",
          "data": {
            "text/plain": [
              "{'bootstrap': True,\n",
              " 'ccp_alpha': 0.0,\n",
              " 'class_weight': None,\n",
              " 'criterion': 'gini',\n",
              " 'max_depth': None,\n",
              " 'max_features': 'auto',\n",
              " 'max_leaf_nodes': None,\n",
              " 'max_samples': None,\n",
              " 'min_impurity_decrease': 0.0,\n",
              " 'min_samples_leaf': 1,\n",
              " 'min_samples_split': 2,\n",
              " 'min_weight_fraction_leaf': 0.0,\n",
              " 'n_estimators': 74,\n",
              " 'n_jobs': None,\n",
              " 'oob_score': False,\n",
              " 'random_state': 20,\n",
              " 'verbose': 0,\n",
              " 'warm_start': False}"
            ]
          },
          "metadata": {},
          "execution_count": 75
        }
      ]
    },
    {
      "cell_type": "code",
      "source": [
        "y_rf_test_pred = rf_clf.predict(X_test)\n",
        "print('Mean Squared Error:', metrics.mean_squared_error(y_test, y_rf_test_pred))\n",
        "print('Score', rf_clf.score(X_test, y_test))\n",
        "#print(y_rf_test_pred)"
      ],
      "metadata": {
        "id": "umVlzIvPchyc",
        "colab": {
          "base_uri": "https://localhost:8080/"
        },
        "outputId": "e103e197-b14b-470b-e883-1fa390f8f4f8"
      },
      "execution_count": 76,
      "outputs": [
        {
          "output_type": "stream",
          "name": "stdout",
          "text": [
            "Mean Squared Error: 0.17384615384615384\n",
            "Score 0.8261538461538461\n"
          ]
        }
      ]
    },
    {
      "cell_type": "code",
      "source": [
        "print(classification_report(y_test, y_rf_test_pred))"
      ],
      "metadata": {
        "id": "yngoQS9nJNCB",
        "colab": {
          "base_uri": "https://localhost:8080/"
        },
        "outputId": "3b9c5a19-aef9-443d-9f2a-ce34da0bf8a5"
      },
      "execution_count": 77,
      "outputs": [
        {
          "output_type": "stream",
          "name": "stdout",
          "text": [
            "              precision    recall  f1-score   support\n",
            "\n",
            "           0       0.83      0.73      0.78       477\n",
            "           1       0.82      0.91      0.86       783\n",
            "           2       1.00      0.38      0.55        40\n",
            "\n",
            "    accuracy                           0.83      1300\n",
            "   macro avg       0.88      0.67      0.73      1300\n",
            "weighted avg       0.83      0.83      0.82      1300\n",
            "\n"
          ]
        }
      ]
    },
    {
      "cell_type": "markdown",
      "source": [
        "Look at implementing balanced Random Forest\n",
        " https://medium.com/sfu-cspmp/surviving-in-a-random-forest-with-imbalanced-datasets-b98b963d52eb"
      ],
      "metadata": {
        "id": "Czhd3z9Vu9Mb"
      }
    },
    {
      "cell_type": "markdown",
      "source": [
        "### Voting Classifier with knn, svm, rf, nb"
      ],
      "metadata": {
        "id": "kHieQXKy5pIt"
      }
    },
    {
      "cell_type": "markdown",
      "source": [
        "Look at putting in a voting classifier ensemble and a plot of how ensemble performs better \n",
        "https://machinelearningmastery.com/bagging-ensemble-with-different-data-transformations/"
      ],
      "metadata": {
        "id": "_909eL4OPOQZ"
      }
    },
    {
      "cell_type": "code",
      "source": [
        "from sklearn.ensemble import VotingClassifier\n",
        "from sklearn.model_selection import cross_val_score, cross_validate, StratifiedKFold\n",
        "from sklearn.svm import SVC\n",
        "from sklearn.naive_bayes import GaussianNB\n",
        "from sklearn.ensemble import RandomForestClassifier\n",
        "from sklearn.ensemble import VotingClassifier\n",
        "from sklearn.metrics import confusion_matrix, classification_report\n",
        "import matplotlib.pyplot as plt"
      ],
      "metadata": {
        "id": "KEr1BpGg2esa"
      },
      "execution_count": 78,
      "outputs": []
    },
    {
      "cell_type": "code",
      "source": [
        "clf1 = SVC()\n",
        "clf2 = RandomForestClassifier(n_estimators=100, random_state=1)\n",
        "clf3 = KNeighborsClassifier(n_neighbors=31, weights='distance')\n",
        "clf4 = GaussianNB()\n",
        "eclf = VotingClassifier(\n",
        "    estimators=[('svc', clf1), ('rf', clf2), ('knn', clf3), ('nb', clf4)], voting='hard'#, weights=[1,2,2]\n",
        "    )"
      ],
      "metadata": {
        "id": "L-z3BqGrx85F"
      },
      "execution_count": 79,
      "outputs": []
    },
    {
      "cell_type": "code",
      "source": [],
      "metadata": {
        "id": "EHaP36LOIbsS"
      },
      "execution_count": 79,
      "outputs": []
    },
    {
      "cell_type": "code",
      "source": [
        "cv = StratifiedKFold(n_splits=10, shuffle=True, random_state=1)"
      ],
      "metadata": {
        "id": "JDn244ktNRBR"
      },
      "execution_count": 80,
      "outputs": []
    },
    {
      "cell_type": "code",
      "source": [
        "\n",
        "accuracy_results = list()\n",
        "f1_results = list()\n",
        "mse_result = list()\n",
        "for clf, label in zip([clf1, clf2, clf3, clf4, eclf], ['Support Vector Classification', 'Random Forest', 'Knn', 'Naive Bayes','Ensemble']):\n",
        "    scores = cross_val_score(clf, X_train, np.ravel(y_train.values), scoring='accuracy', cv=cv)\n",
        "    f1_scores = cross_val_score(clf, X_train, np.ravel(y_train.values), scoring='f1_macro', cv=cv)\n",
        "    mse_scores = cross_val_score(clf, X_train, np.ravel(y_train.values), cv = cv, scoring='neg_mean_squared_error')\n",
        "    accuracy_results.append(scores)\n",
        "    f1_results.append(f1_scores)\n",
        "    mse_result.append(mse_scores)\n",
        "    print(\"Cross Validation Accuracy: %0.2f (+/- %0.2f) [%s]\" % (scores.mean(), scores.std(), label))\n",
        "    clf.fit(X_train,np.ravel(y_train.values))\n",
        "    print(\"Classification Report \\n\", classification_report(y_test, clf.predict(X_test),\\\n",
        "                                                            labels = np.unique(clf.predict(X_test))))"
      ],
      "metadata": {
        "id": "_MemC7Sdx-Zi",
        "colab": {
          "base_uri": "https://localhost:8080/"
        },
        "outputId": "7e419bb6-6ecf-44f7-fc65-1ffab1f76f41"
      },
      "execution_count": 81,
      "outputs": [
        {
          "output_type": "stream",
          "name": "stdout",
          "text": [
            "Cross Validation Accuracy: 0.72 (+/- 0.02) [Support Vector Classification]\n",
            "Classification Report \n",
            "               precision    recall  f1-score   support\n",
            "\n",
            "           0       0.74      0.53      0.62       477\n",
            "           1       0.73      0.89      0.80       783\n",
            "\n",
            "   micro avg       0.73      0.75      0.74      1260\n",
            "   macro avg       0.73      0.71      0.71      1260\n",
            "weighted avg       0.73      0.75      0.73      1260\n",
            "\n",
            "Cross Validation Accuracy: 0.80 (+/- 0.02) [Random Forest]\n",
            "Classification Report \n",
            "               precision    recall  f1-score   support\n",
            "\n",
            "           0       0.83      0.73      0.77       477\n",
            "           1       0.82      0.91      0.86       783\n",
            "           2       1.00      0.38      0.55        40\n",
            "\n",
            "    accuracy                           0.83      1300\n",
            "   macro avg       0.88      0.67      0.73      1300\n",
            "weighted avg       0.83      0.83      0.82      1300\n",
            "\n",
            "Cross Validation Accuracy: 0.79 (+/- 0.01) [Knn]\n",
            "Classification Report \n",
            "               precision    recall  f1-score   support\n",
            "\n",
            "           0       0.82      0.66      0.73       477\n",
            "           1       0.79      0.91      0.85       783\n",
            "           2       1.00      0.38      0.55        40\n",
            "\n",
            "    accuracy                           0.80      1300\n",
            "   macro avg       0.87      0.65      0.71      1300\n",
            "weighted avg       0.81      0.80      0.80      1300\n",
            "\n",
            "Cross Validation Accuracy: 0.60 (+/- 0.02) [Naive Bayes]\n",
            "Classification Report \n",
            "               precision    recall  f1-score   support\n",
            "\n",
            "           0       0.56      0.44      0.49       477\n",
            "           1       0.66      0.71      0.68       783\n",
            "           2       0.10      0.17      0.13        40\n",
            "\n",
            "    accuracy                           0.60      1300\n",
            "   macro avg       0.44      0.44      0.43      1300\n",
            "weighted avg       0.60      0.60      0.60      1300\n",
            "\n",
            "Cross Validation Accuracy: 0.78 (+/- 0.02) [Ensemble]\n",
            "Classification Report \n",
            "               precision    recall  f1-score   support\n",
            "\n",
            "           0       0.77      0.70      0.73       477\n",
            "           1       0.79      0.87      0.83       783\n",
            "           2       1.00      0.07      0.14        40\n",
            "\n",
            "    accuracy                           0.78      1300\n",
            "   macro avg       0.85      0.55      0.57      1300\n",
            "weighted avg       0.79      0.78      0.77      1300\n",
            "\n"
          ]
        }
      ]
    },
    {
      "cell_type": "markdown",
      "source": [
        "#### Ensemble 1 Performance"
      ],
      "metadata": {
        "id": "RHc-1rpu3Fss"
      }
    },
    {
      "cell_type": "markdown",
      "source": [
        "#### Accuracy Performance Comparison of Ensemble 1"
      ],
      "metadata": {
        "id": "irPA5ODfRYu2"
      }
    },
    {
      "cell_type": "code",
      "source": [
        "plt.rcParams['figure.figsize'] = (7, 10)\n",
        "plt.boxplot(accuracy_results, labels=[n for n in (['SVC', 'Random Forest', 'Knn', 'Naive Bayes','Ensemble'] )], showmeans=True)\n",
        "plt.title(\"Accuracy across the various classifiers\")\n",
        "plt.show()"
      ],
      "metadata": {
        "id": "tM2AK_6gyAhD",
        "colab": {
          "base_uri": "https://localhost:8080/",
          "height": 607
        },
        "outputId": "85f3078e-d893-4d12-aaaf-0a2a03c9284f"
      },
      "execution_count": 82,
      "outputs": [
        {
          "output_type": "display_data",
          "data": {
            "text/plain": [
              "<Figure size 504x720 with 1 Axes>"
            ],
            "image/png": "[encoded data removed]"
          },
          "metadata": {
            "needs_background": "light"
          }
        }
      ]
    },
    {
      "cell_type": "markdown",
      "source": [
        "#### F1 Scores  Comparison of Ensemble 1"
      ],
      "metadata": {
        "id": "fUVYIPcjRdlz"
      }
    },
    {
      "cell_type": "code",
      "source": [
        "plt.rcParams['figure.figsize'] = (7, 10)\n",
        "plt.boxplot(f1_results, labels=[n for n in (['SVC', 'Random Forest', 'Knn', 'Naive Bayes','Ensemble'] )], showmeans=True)\n",
        "plt.title(\"F1 scores across the various classifiers\")\n",
        "plt.show()"
      ],
      "metadata": {
        "id": "CNZ_iZvpJQJ6",
        "colab": {
          "base_uri": "https://localhost:8080/",
          "height": 607
        },
        "outputId": "c42f2e82-bd67-4ae5-bebf-a60cda355307"
      },
      "execution_count": 83,
      "outputs": [
        {
          "output_type": "display_data",
          "data": {
            "text/plain": [
              "<Figure size 504x720 with 1 Axes>"
            ],
            "image/png": "[encoded data removed]"
          },
          "metadata": {
            "needs_background": "light"
          }
        }
      ]
    },
    {
      "cell_type": "markdown",
      "source": [
        "#### MSE Scores  Comparison of Ensemble 1"
      ],
      "metadata": {
        "id": "HTYj-H8j2JBz"
      }
    },
    {
      "cell_type": "code",
      "source": [
        "plt.rcParams['figure.figsize'] = (7, 10)\n",
        "plt.boxplot(mse_result, labels=[n for n in (['SVC', 'Random Forest', 'Knn', 'Naive Bayes','Ensemble'] )], showmeans=True)\n",
        "plt.title(\"MSE across the various classifiers\")\n",
        "plt.show()"
      ],
      "metadata": {
        "id": "8_fz227a48i2",
        "colab": {
          "base_uri": "https://localhost:8080/",
          "height": 607
        },
        "outputId": "44977e18-c2b6-470b-8327-35dfaa8334b1"
      },
      "execution_count": 84,
      "outputs": [
        {
          "output_type": "display_data",
          "data": {
            "text/plain": [
              "<Figure size 504x720 with 1 Axes>"
            ],
            "image/png": "[encoded data removed]"
          },
          "metadata": {
            "needs_background": "light"
          }
        }
      ]
    },
    {
      "cell_type": "markdown",
      "source": [
        "### Voting Classifier with Rf and knn"
      ],
      "metadata": {
        "id": "P1njQGn12Wp2"
      }
    },
    {
      "cell_type": "code",
      "source": [
        "eclf2 = VotingClassifier(\n",
        "    estimators=[ ('rf', clf2), ('knn', clf3)], voting='hard'#, weights=[1,2,2]\n",
        "    )\n",
        "\n",
        "cv = StratifiedKFold(n_splits=10, shuffle=True, random_state=1)\n",
        "\n",
        "\n",
        "accuracy_results = list()\n",
        "f1_results = list()\n",
        "mse_result = list()\n",
        "for clf, label in zip([ clf2, clf3, eclf2], ['Random Forest', 'Knn','Ensemble']):\n",
        "    scores = cross_val_score(clf, X_train, np.ravel(y_train.values), scoring='accuracy', cv=cv)\n",
        "    f1_scores = cross_val_score(clf, X_train, np.ravel(y_train.values), scoring='f1_macro', cv=cv)\n",
        "    mse_scores = cross_val_score(clf, X_train, np.ravel(y_train.values), cv = cv, scoring='neg_mean_squared_error')\n",
        "    accuracy_results.append(scores)\n",
        "    f1_results.append(f1_scores)\n",
        "    mse_result.append(mse_scores)\n",
        "    print(\"Cross Validation Accuracy: %0.2f (+/- %0.2f) [%s]\" % (scores.mean(), scores.std(), label))\n",
        "    clf.fit(X_train,np.ravel(y_train.values))\n",
        "    print(\"Classification Report \\n\", classification_report(y_test, clf.predict(X_test),\\\n",
        "                                                            labels = np.unique(clf.predict(X_test))))"
      ],
      "metadata": {
        "colab": {
          "base_uri": "https://localhost:8080/"
        },
        "id": "B6tbU0jy2VMq",
        "outputId": "c31b7be7-7e10-4083-af9c-0461df311100"
      },
      "execution_count": 85,
      "outputs": [
        {
          "output_type": "stream",
          "name": "stdout",
          "text": [
            "Cross Validation Accuracy: 0.80 (+/- 0.02) [Random Forest]\n",
            "Classification Report \n",
            "               precision    recall  f1-score   support\n",
            "\n",
            "           0       0.83      0.73      0.77       477\n",
            "           1       0.82      0.91      0.86       783\n",
            "           2       1.00      0.38      0.55        40\n",
            "\n",
            "    accuracy                           0.83      1300\n",
            "   macro avg       0.88      0.67      0.73      1300\n",
            "weighted avg       0.83      0.83      0.82      1300\n",
            "\n",
            "Cross Validation Accuracy: 0.79 (+/- 0.01) [Knn]\n",
            "Classification Report \n",
            "               precision    recall  f1-score   support\n",
            "\n",
            "           0       0.82      0.66      0.73       477\n",
            "           1       0.79      0.91      0.85       783\n",
            "           2       1.00      0.38      0.55        40\n",
            "\n",
            "    accuracy                           0.80      1300\n",
            "   macro avg       0.87      0.65      0.71      1300\n",
            "weighted avg       0.81      0.80      0.80      1300\n",
            "\n",
            "Cross Validation Accuracy: 0.80 (+/- 0.02) [Ensemble]\n",
            "Classification Report \n",
            "               precision    recall  f1-score   support\n",
            "\n",
            "           0       0.80      0.77      0.79       477\n",
            "           1       0.84      0.88      0.86       783\n",
            "           2       1.00      0.38      0.55        40\n",
            "\n",
            "    accuracy                           0.83      1300\n",
            "   macro avg       0.88      0.68      0.73      1300\n",
            "weighted avg       0.83      0.83      0.82      1300\n",
            "\n"
          ]
        }
      ]
    },
    {
      "cell_type": "markdown",
      "source": [
        "#### Ensemble 2 Performance"
      ],
      "metadata": {
        "id": "8XAGi2vh3NLr"
      }
    },
    {
      "cell_type": "markdown",
      "source": [
        "##### Accuracy Performance Comparison of Ensemble 2"
      ],
      "metadata": {
        "id": "aexPRaO53RB8"
      }
    },
    {
      "cell_type": "code",
      "source": [
        "plt.rcParams['figure.figsize'] = (7, 10)\n",
        "plt.boxplot(accuracy_results, labels=[n for n in (['Random Forest', 'Knn','Ensemble'] )], showmeans=True)\n",
        "plt.title(\"Accuracy across the various classifiers\")\n",
        "plt.show()"
      ],
      "metadata": {
        "colab": {
          "base_uri": "https://localhost:8080/",
          "height": 607
        },
        "id": "YUim9w7t3jLg",
        "outputId": "a7fed554-2c7f-44b2-b85d-94a7362ae2a7"
      },
      "execution_count": 86,
      "outputs": [
        {
          "output_type": "display_data",
          "data": {
            "text/plain": [
              "<Figure size 504x720 with 1 Axes>"
            ],
            "image/png": "[encoded data removed]"
          },
          "metadata": {
            "needs_background": "light"
          }
        }
      ]
    },
    {
      "cell_type": "markdown",
      "source": [
        "##### F1 Scores Performance Comparison of Ensemble 2"
      ],
      "metadata": {
        "id": "ReDzhzPT3Ypa"
      }
    },
    {
      "cell_type": "code",
      "source": [
        "plt.rcParams['figure.figsize'] = (7, 10)\n",
        "plt.boxplot(f1_results, labels=[n for n in (['Random Forest', 'Knn','Ensemble'] )], showmeans=True)\n",
        "plt.title(\"F1 scores across the various classifiers\")\n",
        "plt.show()"
      ],
      "metadata": {
        "colab": {
          "base_uri": "https://localhost:8080/",
          "height": 607
        },
        "id": "HChXW1I_3l7J",
        "outputId": "79a69507-40d7-469f-b6bc-e8273c083cc6"
      },
      "execution_count": 87,
      "outputs": [
        {
          "output_type": "display_data",
          "data": {
            "text/plain": [
              "<Figure size 504x720 with 1 Axes>"
            ],
            "image/png": "[encoded data removed]"
          },
          "metadata": {
            "needs_background": "light"
          }
        }
      ]
    },
    {
      "cell_type": "markdown",
      "source": [
        "##### MSE Scores Comparison of Ensemble 2"
      ],
      "metadata": {
        "id": "-zpbCEOz3cD6"
      }
    },
    {
      "cell_type": "code",
      "source": [
        "plt.rcParams['figure.figsize'] = (7, 10)\n",
        "plt.boxplot(mse_result, labels=[n for n in (['Random Forest', 'Knn','Ensemble'] )], showmeans=True)\n",
        "plt.title(\"MSE across the various classifiers\")\n",
        "plt.show()"
      ],
      "metadata": {
        "colab": {
          "base_uri": "https://localhost:8080/",
          "height": 607
        },
        "id": "pjHRvgSd3nC3",
        "outputId": "ae7cb4cd-ef56-465a-d9ca-aaf80e84340e"
      },
      "execution_count": 88,
      "outputs": [
        {
          "output_type": "display_data",
          "data": {
            "text/plain": [
              "<Figure size 504x720 with 1 Axes>"
            ],
            "image/png": "[encoded data removed]"
          },
          "metadata": {
            "needs_background": "light"
          }
        }
      ]
    },
    {
      "cell_type": "markdown",
      "source": [
        "Ensemble 3 with oversampling"
      ],
      "metadata": {
        "id": "3oXHcRUMJwcL"
      }
    },
    {
      "cell_type": "code",
      "source": [
        "from imblearn.over_sampling import RandomOverSampler"
      ],
      "metadata": {
        "id": "yLKva156Jf7n"
      },
      "execution_count": 89,
      "outputs": []
    },
    {
      "cell_type": "code",
      "source": [
        "X = wines.iloc[: , :-2]\n",
        "y = wines.iloc[:,-1:]\n",
        "scaler = MinMaxScaler()\n",
        "X = scaler.fit_transform(X)"
      ],
      "metadata": {
        "id": "2347V2S3MTZx"
      },
      "execution_count": 90,
      "outputs": []
    },
    {
      "cell_type": "code",
      "source": [
        "X_train, X_test, y_train, y_test = train_test_split(X,y, stratify = y, test_size=0.2, random_state=20)\n",
        "sampling_strategy = {2: 1000 }\n",
        "oversample = RandomOverSampler(sampling_strategy=sampling_strategy)\n",
        "X_over, y_over = oversample.fit_resample(X_train, y_train)"
      ],
      "metadata": {
        "id": "_vUQiljMMbbo"
      },
      "execution_count": 91,
      "outputs": []
    },
    {
      "cell_type": "code",
      "source": [],
      "metadata": {
        "id": "L6z2ztLsMlR7"
      },
      "execution_count": 91,
      "outputs": []
    },
    {
      "cell_type": "markdown",
      "source": [
        "Post Classification"
      ],
      "metadata": {
        "id": "33HAvMeCOnIM"
      }
    },
    {
      "cell_type": "code",
      "source": [],
      "metadata": {
        "id": "qPG0iIjeOYBv"
      },
      "execution_count": 91,
      "outputs": []
    },
    {
      "cell_type": "markdown",
      "source": [
        "### Voting Classifier with Oversampling rf and knn"
      ],
      "metadata": {
        "id": "9B8KUiugKXsh"
      }
    },
    {
      "cell_type": "code",
      "source": [
        "from imblearn.over_sampling import RandomOverSampler"
      ],
      "metadata": {
        "id": "mTr8tDMpKWNe"
      },
      "execution_count": 92,
      "outputs": []
    },
    {
      "cell_type": "code",
      "source": [
        "X = wines.iloc[: , :-2]\n",
        "y = wines.iloc[:,-1:]\n",
        "scaler = MinMaxScaler()\n",
        "X = scaler.fit_transform(X)"
      ],
      "metadata": {
        "id": "XCbxDHq7KTot"
      },
      "execution_count": 93,
      "outputs": []
    },
    {
      "cell_type": "code",
      "source": [
        "X_train, X_test, y_train, y_test = train_test_split(X,y, stratify = y, test_size=0.2, random_state=20)\n",
        "sampling_strategy = {2: 1000 }\n",
        "oversample = RandomOverSampler(sampling_strategy=sampling_strategy)\n",
        "X_over, y_over = oversample.fit_resample(X_train, y_train)"
      ],
      "metadata": {
        "id": "ivqsGRBpLTGH"
      },
      "execution_count": 94,
      "outputs": []
    },
    {
      "cell_type": "code",
      "source": [
        "eclf3 = VotingClassifier(\n",
        "    estimators=[ ('rf', clf2), ('knn', clf3)], voting='hard'#, weights=[1,2,2]\n",
        "    )\n",
        "\n",
        "cv = StratifiedKFold(n_splits=10, shuffle=True, random_state=1)\n",
        "\n",
        "\n",
        "accuracy_results = list()\n",
        "f1_results = list()\n",
        "mse_result = list()\n",
        "for clf, label in zip([ clf2, clf3, eclf3], ['Random Forest', 'Knn','Ensemble']):\n",
        "    scores = cross_val_score(clf, X_over, np.ravel(y_over.values), scoring='accuracy', cv=cv)\n",
        "    f1_scores = cross_val_score(clf, X_over, np.ravel(y_over.values), scoring='f1_macro', cv=cv)\n",
        "    mse_scores = cross_val_score(clf, X_over, np.ravel(y_over.values), cv = cv, scoring='neg_mean_squared_error')\n",
        "    accuracy_results.append(scores)\n",
        "    f1_results.append(f1_scores)\n",
        "    mse_result.append(mse_scores)\n",
        "    print(\"Cross Validation Accuracy: %0.2f (+/- %0.2f) [%s]\" % (scores.mean(), scores.std(), label))\n",
        "    clf.fit(X_over,np.ravel(y_over.values))\n",
        "    print(\"Classification Report \\n\", classification_report(y_test, clf.predict(X_test),\\\n",
        "                                                            labels = np.unique(clf.predict(X_test))))"
      ],
      "metadata": {
        "colab": {
          "base_uri": "https://localhost:8080/"
        },
        "id": "-x2xxNpuKhzK",
        "outputId": "dead7a9b-a05a-47d5-f97f-cfc219616a0b"
      },
      "execution_count": 95,
      "outputs": [
        {
          "output_type": "stream",
          "name": "stdout",
          "text": [
            "Cross Validation Accuracy: 0.85 (+/- 0.01) [Random Forest]\n",
            "Classification Report \n",
            "               precision    recall  f1-score   support\n",
            "\n",
            "           0       0.83      0.72      0.77       477\n",
            "           1       0.82      0.91      0.86       783\n",
            "           2       1.00      0.40      0.57        40\n",
            "\n",
            "    accuracy                           0.82      1300\n",
            "   macro avg       0.88      0.68      0.73      1300\n",
            "weighted avg       0.83      0.82      0.82      1300\n",
            "\n",
            "Cross Validation Accuracy: 0.80 (+/- 0.01) [Knn]\n",
            "Classification Report \n",
            "               precision    recall  f1-score   support\n",
            "\n",
            "           0       0.82      0.65      0.73       477\n",
            "           1       0.79      0.84      0.81       783\n",
            "           2       0.25      0.55      0.34        40\n",
            "\n",
            "    accuracy                           0.76      1300\n",
            "   macro avg       0.62      0.68      0.63      1300\n",
            "weighted avg       0.78      0.76      0.77      1300\n",
            "\n",
            "Cross Validation Accuracy: 0.85 (+/- 0.01) [Ensemble]\n",
            "Classification Report \n",
            "               precision    recall  f1-score   support\n",
            "\n",
            "           0       0.79      0.77      0.78       477\n",
            "           1       0.84      0.88      0.86       783\n",
            "           2       1.00      0.40      0.57        40\n",
            "\n",
            "    accuracy                           0.82      1300\n",
            "   macro avg       0.88      0.68      0.74      1300\n",
            "weighted avg       0.83      0.82      0.82      1300\n",
            "\n"
          ]
        }
      ]
    },
    {
      "cell_type": "markdown",
      "source": [],
      "metadata": {
        "id": "jl-ZTuKlLTJt"
      }
    },
    {
      "cell_type": "markdown",
      "source": [
        "#### Ensemble 3 Performance"
      ],
      "metadata": {
        "id": "QDaSx4PALxf9"
      }
    },
    {
      "cell_type": "markdown",
      "source": [
        "##### Accuracy Performance Comparison of Ensemble 3"
      ],
      "metadata": {
        "id": "flYkLCn1Lxf-"
      }
    },
    {
      "cell_type": "code",
      "source": [
        "plt.rcParams['figure.figsize'] = (7, 10)\n",
        "plt.boxplot(accuracy_results, labels=[n for n in (['Random Forest', 'Knn','Ensemble'] )], showmeans=True)\n",
        "plt.title(\"Accuracy across the various classifiers\")\n",
        "plt.show()"
      ],
      "metadata": {
        "colab": {
          "base_uri": "https://localhost:8080/",
          "height": 607
        },
        "outputId": "d3626570-f345-4d7d-e4c2-3d060db4a1cd",
        "id": "ZR_WZSOzLxf-"
      },
      "execution_count": 96,
      "outputs": [
        {
          "output_type": "display_data",
          "data": {
            "text/plain": [
              "<Figure size 504x720 with 1 Axes>"
            ],
            "image/png": "[encoded data removed]"
          },
          "metadata": {
            "needs_background": "light"
          }
        }
      ]
    },
    {
      "cell_type": "markdown",
      "source": [
        "##### F1 Scores Performance Comparison of Ensemble 3"
      ],
      "metadata": {
        "id": "UwtUaGWQLxf_"
      }
    },
    {
      "cell_type": "code",
      "source": [
        "plt.rcParams['figure.figsize'] = (7, 10)\n",
        "plt.boxplot(f1_results, labels=[n for n in (['Random Forest', 'Knn','Ensemble'] )], showmeans=True)\n",
        "plt.title(\"F1 scores across the various classifiers\")\n",
        "plt.show()"
      ],
      "metadata": {
        "colab": {
          "base_uri": "https://localhost:8080/",
          "height": 607
        },
        "outputId": "97308b2b-d1d8-4d5e-91df-d60700a798ba",
        "id": "_Vpd5ey-Lxf_"
      },
      "execution_count": 97,
      "outputs": [
        {
          "output_type": "display_data",
          "data": {
            "text/plain": [
              "<Figure size 504x720 with 1 Axes>"
            ],
            "image/png": "[encoded data removed]"
          },
          "metadata": {
            "needs_background": "light"
          }
        }
      ]
    },
    {
      "cell_type": "markdown",
      "source": [
        "##### MSE Scores Comparison of Ensemble 3"
      ],
      "metadata": {
        "id": "0ob00sPcLxf_"
      }
    },
    {
      "cell_type": "code",
      "source": [
        "plt.rcParams['figure.figsize'] = (7, 10)\n",
        "plt.boxplot(mse_result, labels=[n for n in (['Random Forest', 'Knn','Ensemble'] )], showmeans=True)\n",
        "plt.title(\"MSE across the various classifiers\")\n",
        "plt.show()"
      ],
      "metadata": {
        "colab": {
          "base_uri": "https://localhost:8080/",
          "height": 607
        },
        "outputId": "233e25ec-3c78-465d-bc24-955a9ad7ca24",
        "id": "QRCFg87_Lxf_"
      },
      "execution_count": 98,
      "outputs": [
        {
          "output_type": "display_data",
          "data": {
            "text/plain": [
              "<Figure size 504x720 with 1 Axes>"
            ],
            "image/png": "[encoded data removed]"
          },
          "metadata": {
            "needs_background": "light"
          }
        }
      ]
    },
    {
      "cell_type": "code",
      "source": [],
      "metadata": {
        "id": "UvI3Ia6NLxgA"
      },
      "execution_count": 98,
      "outputs": []
    },
    {
      "cell_type": "code",
      "source": [],
      "metadata": {
        "id": "jm4RuAiFLxgA"
      },
      "execution_count": 98,
      "outputs": []
    }
  ]
}